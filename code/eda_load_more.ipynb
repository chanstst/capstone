{
 "cells": [
  {
   "cell_type": "markdown",
   "metadata": {},
   "source": [
    "# UK Property Image Classification EDA\n",
    "\n",
    "---"
   ]
  },
  {
   "cell_type": "markdown",
   "metadata": {},
   "source": [
    "#### Problem statement:\n",
    "Building a convoluated neural network to classify types of period buildings in UK\n",
    "- Georgian (1714-1837)\n",
    "- Victorian (1837-1901)\n",
    "- Edwardian (1901-1910)\n",
    "\n",
    "#### Data:\n",
    "Images of residential buildings from public domains. Around 100 images for each class\n",
    "\n",
    "#### Model:\n",
    "Convoluted Neural Nets\n",
    "\n",
    "#### Initial model results:\n",
    "[ ]"
   ]
  },
  {
   "cell_type": "markdown",
   "metadata": {},
   "source": [
    "### Importing libraries"
   ]
  },
  {
   "cell_type": "code",
   "execution_count": 1,
   "metadata": {},
   "outputs": [],
   "source": [
    "import pandas as pd\n",
    "import numpy as np\n",
    "import matplotlib.pyplot as plt\n",
    "import os\n",
    "import random"
   ]
  },
  {
   "cell_type": "code",
   "execution_count": 2,
   "metadata": {},
   "outputs": [],
   "source": [
    "from skimage import io\n",
    "from skimage import color\n",
    "from skimage.transform import rescale, resize, downscale_local_mean"
   ]
  },
  {
   "cell_type": "code",
   "execution_count": 3,
   "metadata": {},
   "outputs": [],
   "source": [
    "# For reproducibility\n",
    "np.random.seed(42)"
   ]
  },
  {
   "cell_type": "code",
   "execution_count": 11,
   "metadata": {},
   "outputs": [],
   "source": [
    "# get the file names in one single folder\n",
    "def save_more_images(path):\n",
    "    #default csv file of record\n",
    "    csv = '../data/more_images2.csv'\n",
    "    image_files = os.listdir(path)\n",
    "    image_files = [(path+x) for x in image_files]\n",
    "    image_files_df = pd.DataFrame(image_files)\n",
    "    image_files_df.to_csv(csv, index=False)\n",
    "    \n",
    "    return False"
   ]
  },
  {
   "cell_type": "code",
   "execution_count": 12,
   "metadata": {},
   "outputs": [],
   "source": [
    "path = '../../capstone_more_images/modern/'\n",
    "image_files = save_more_images(path)\n"
   ]
  },
  {
   "cell_type": "code",
   "execution_count": null,
   "metadata": {},
   "outputs": [],
   "source": []
  },
  {
   "cell_type": "code",
   "execution_count": 4,
   "metadata": {},
   "outputs": [],
   "source": [
    "# get the file names from csv file based on criteria\n",
    "def load_more_images(criteria, k):\n",
    "    \n",
    "    #default csv file of record\n",
    "    csv = '../data/more_images.csv'\n",
    "    images = pd.read_csv(csv)\n",
    "    images.fillna(0, inplace=True)\n",
    "    \n",
    "    for key, value in criteria.items():\n",
    "        images = images[images[key]==value]\n",
    "    \n",
    "    if k>len(images):\n",
    "        print(\"Number of images is less than k\")\n",
    "    selected = random.choices(images[\"image_link\"].to_list(), k=k)\n",
    "    \n",
    "    return selected"
   ]
  },
  {
   "cell_type": "code",
   "execution_count": 5,
   "metadata": {},
   "outputs": [],
   "source": [
    "# all criteria to be met\n",
    "criteria = {\"ext\":1., \"new\":0.}\n",
    "# k is the number of elements to be randomly selected\n",
    "k=100\n",
    "\n",
    "selected = load_more_images(criteria, k)"
   ]
  },
  {
   "cell_type": "code",
   "execution_count": 6,
   "metadata": {},
   "outputs": [],
   "source": [
    "# feeding images into numpy ndarray\n",
    "\n",
    "def load_array(image_files, min_size):\n",
    "    X = np.array([])\n",
    "    for file in image_files:\n",
    "        img = io.imread(file)\n",
    "        img_resized = resize(img, (min_size,min_size), anti_aliasing=True)\n",
    "        if X.shape[0] == 0:\n",
    "            X = np.array([img_resized])\n",
    "        else:\n",
    "            X = np.append(X, [img_resized], axis = 0)\n",
    "    return X"
   ]
  },
  {
   "cell_type": "code",
   "execution_count": 7,
   "metadata": {},
   "outputs": [],
   "source": [
    "min_size = 400\n",
    "\n",
    "X = load_array(selected[:10], min_size)"
   ]
  },
  {
   "cell_type": "code",
   "execution_count": 8,
   "metadata": {},
   "outputs": [
    {
     "data": {
      "text/plain": [
       "(10, 400, 400, 3)"
      ]
     },
     "execution_count": 8,
     "metadata": {},
     "output_type": "execute_result"
    }
   ],
   "source": [
    "X.shape"
   ]
  },
  {
   "cell_type": "code",
   "execution_count": null,
   "metadata": {},
   "outputs": [],
   "source": []
  }
 ],
 "metadata": {
  "kernelspec": {
   "display_name": "Python 3",
   "language": "python",
   "name": "python3"
  },
  "language_info": {
   "codemirror_mode": {
    "name": "ipython",
    "version": 3
   },
   "file_extension": ".py",
   "mimetype": "text/x-python",
   "name": "python",
   "nbconvert_exporter": "python",
   "pygments_lexer": "ipython3",
   "version": "3.7.7"
  }
 },
 "nbformat": 4,
 "nbformat_minor": 2
}
