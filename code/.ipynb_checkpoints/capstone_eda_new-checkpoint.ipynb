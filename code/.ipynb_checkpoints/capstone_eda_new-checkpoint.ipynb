{
 "cells": [
  {
   "cell_type": "markdown",
   "metadata": {},
   "source": [
    "# UK Property Image Classification EDA\n",
    "\n",
    "---"
   ]
  },
  {
   "cell_type": "markdown",
   "metadata": {},
   "source": [
    "#### Problem statement:\n",
    "Building a convoluated neural network to classify period and modern residential buildings in UK\n",
    "\n",
    "#### Data:\n",
    "Images of residential buildings from public domains. Around 1000 images for each class\n",
    "\n",
    "#### Model:\n",
    "Convoluted Neural Nets\n",
    "\n",
    "#### Further research:\n",
    "- Image cropping\n",
    "- Transfer learning"
   ]
  },
  {
   "cell_type": "markdown",
   "metadata": {},
   "source": [
    "### Importing libraries"
   ]
  },
  {
   "cell_type": "code",
   "execution_count": 1,
   "metadata": {},
   "outputs": [],
   "source": [
    "import pandas as pd\n",
    "import numpy as np\n",
    "import matplotlib.pyplot as plt\n",
    "import matplotlib.image as mpimg\n",
    "import os\n",
    "import io as io\n",
    "\n",
    "from sklearn.model_selection import train_test_split\n",
    "from sklearn.preprocessing import StandardScaler, LabelEncoder\n",
    "\n",
    "from skimage import io\n",
    "from skimage import color\n",
    "from skimage.transform import rescale, resize, downscale_local_mean"
   ]
  },
  {
   "cell_type": "code",
   "execution_count": 2,
   "metadata": {},
   "outputs": [],
   "source": [
    "from tensorflow.keras.models import Sequential\n",
    "from tensorflow.keras.layers import Dense, Dropout, Activation, Flatten\n",
    "from tensorflow.keras.layers import Conv2D, MaxPooling2D"
   ]
  },
  {
   "cell_type": "code",
   "execution_count": 3,
   "metadata": {},
   "outputs": [],
   "source": [
    "# For reproducibility\n",
    "np.random.seed(42)"
   ]
  },
  {
   "cell_type": "markdown",
   "metadata": {},
   "source": [
    "#### Load the first part of training data - old"
   ]
  },
  {
   "cell_type": "code",
   "execution_count": 4,
   "metadata": {},
   "outputs": [],
   "source": [
    "# function to load folder into arrays and  then it returns that same array\n",
    "\n",
    "def load_files(path):\n",
    "    # Put files into lists and return them as one list of size 4\n",
    "    image_files = os.listdir(path)\n",
    "    return image_files"
   ]
  },
  {
   "cell_type": "code",
   "execution_count": 37,
   "metadata": {},
   "outputs": [],
   "source": [
    "# get image resolution\n",
    "\n",
    "def get_resolution(image_path, image_files):\n",
    "    sizes = {}\n",
    "    i = 0\n",
    "\n",
    "    for file in image_files:\n",
    "        img = io.imread(image_path + file)\n",
    "        sizes[i] = {\"row\": img.shape[0], \"col\": img.shape[1]}\n",
    "        i += 1\n",
    "\n",
    "    df_sizes = pd.DataFrame.from_dict(sizes, orient=\"index\")\n",
    "\n",
    "    # getting the lowest value of row/column\n",
    "    min_row = min(df_sizes[\"row\"])\n",
    "    min_col = min(df_sizes[\"col\"])\n",
    "    min_size = min(min_row, min_col)\n",
    "    \n",
    "    return sizes, min_size\n"
   ]
  },
  {
   "cell_type": "code",
   "execution_count": 6,
   "metadata": {},
   "outputs": [],
   "source": [
    "# feeding images into numpy ndarray\n",
    "\n",
    "def load_array(image_files, min_size):\n",
    "    X = np.array([])\n",
    "    for file in image_files:\n",
    "        img = io.imread(image_path + file)\n",
    "        img_resized = resize(img, (min_size,min_size), anti_aliasing=True)\n",
    "        if X.shape[0] == 0:\n",
    "            X = np.array([img_resized])\n",
    "        else:\n",
    "            X = np.append(X, [img_resized], axis = 0)\n",
    "    return X\n",
    "\n"
   ]
  },
  {
   "cell_type": "code",
   "execution_count": 7,
   "metadata": {},
   "outputs": [
    {
     "name": "stdout",
     "output_type": "stream",
     "text": [
      "sizes = {0: {'row': 437, 'col': 655}, 1: {'row': 437, 'col': 655}, 2: {'row': 437, 'col': 655}, 3: {'row': 437, 'col': 655}, 4: {'row': 437, 'col': 655}, 5: {'row': 437, 'col': 655}, 6: {'row': 437, 'col': 655}, 7: {'row': 437, 'col': 655}, 8: {'row': 437, 'col': 655}, 9: {'row': 437, 'col': 655}, 10: {'row': 437, 'col': 655}, 11: {'row': 437, 'col': 655}, 12: {'row': 437, 'col': 655}, 13: {'row': 437, 'col': 655}, 14: {'row': 437, 'col': 655}, 15: {'row': 437, 'col': 655}, 16: {'row': 437, 'col': 651}, 17: {'row': 437, 'col': 655}, 18: {'row': 437, 'col': 656}, 19: {'row': 437, 'col': 654}, 20: {'row': 437, 'col': 655}, 21: {'row': 437, 'col': 654}, 22: {'row': 437, 'col': 583}, 23: {'row': 369, 'col': 656}, 24: {'row': 434, 'col': 656}, 25: {'row': 437, 'col': 654}, 26: {'row': 437, 'col': 656}, 27: {'row': 437, 'col': 655}, 28: {'row': 319, 'col': 656}, 29: {'row': 437, 'col': 655}, 30: {'row': 437, 'col': 654}, 31: {'row': 437, 'col': 656}, 32: {'row': 437, 'col': 655}, 33: {'row': 437, 'col': 654}, 34: {'row': 437, 'col': 655}, 35: {'row': 437, 'col': 654}, 36: {'row': 380, 'col': 570}, 37: {'row': 437, 'col': 655}, 38: {'row': 437, 'col': 583}, 39: {'row': 435, 'col': 656}, 40: {'row': 436, 'col': 656}, 41: {'row': 437, 'col': 654}, 42: {'row': 437, 'col': 655}, 43: {'row': 437, 'col': 655}, 44: {'row': 437, 'col': 656}, 45: {'row': 437, 'col': 656}, 46: {'row': 436, 'col': 656}, 47: {'row': 436, 'col': 656}, 48: {'row': 437, 'col': 656}, 49: {'row': 434, 'col': 656}, 50: {'row': 394, 'col': 640}, 51: {'row': 437, 'col': 655}, 52: {'row': 437, 'col': 655}, 53: {'row': 437, 'col': 656}, 54: {'row': 437, 'col': 654}, 55: {'row': 437, 'col': 655}, 56: {'row': 437, 'col': 654}, 57: {'row': 437, 'col': 655}, 58: {'row': 413, 'col': 656}, 59: {'row': 437, 'col': 654}, 60: {'row': 437, 'col': 654}, 61: {'row': 437, 'col': 656}, 62: {'row': 437, 'col': 654}, 63: {'row': 437, 'col': 655}, 64: {'row': 437, 'col': 654}, 65: {'row': 437, 'col': 655}, 66: {'row': 437, 'col': 655}, 67: {'row': 437, 'col': 656}, 68: {'row': 437, 'col': 655}, 69: {'row': 437, 'col': 655}, 70: {'row': 437, 'col': 656}, 71: {'row': 437, 'col': 656}, 72: {'row': 437, 'col': 655}, 73: {'row': 437, 'col': 655}, 74: {'row': 437, 'col': 654}, 75: {'row': 437, 'col': 655}, 76: {'row': 430, 'col': 645}, 77: {'row': 430, 'col': 645}, 78: {'row': 437, 'col': 655}, 79: {'row': 435, 'col': 656}, 80: {'row': 437, 'col': 650}, 81: {'row': 437, 'col': 655}, 82: {'row': 437, 'col': 654}, 83: {'row': 437, 'col': 655}, 84: {'row': 437, 'col': 654}, 85: {'row': 437, 'col': 655}, 86: {'row': 437, 'col': 655}, 87: {'row': 437, 'col': 654}, 88: {'row': 437, 'col': 655}, 89: {'row': 437, 'col': 656}, 90: {'row': 437, 'col': 656}, 91: {'row': 437, 'col': 656}, 92: {'row': 437, 'col': 655}, 93: {'row': 437, 'col': 656}, 94: {'row': 437, 'col': 656}, 95: {'row': 437, 'col': 656}, 96: {'row': 437, 'col': 655}, 97: {'row': 437, 'col': 655}, 98: {'row': 437, 'col': 655}, 99: {'row': 437, 'col': 583}}\n",
      "min_size = 319\n",
      "X_modern shape = (100, 400, 400, 3)\n",
      "y_modern shape = (100, 1)\n"
     ]
    }
   ],
   "source": [
    "# Photos of modern buildings\n",
    "\n",
    "image_path = \"../images/modern_samples/\"\n",
    "image_files = load_files(image_path)\n",
    "\n",
    "# look through the resolution of image files\n",
    "sizes, min_size = get_resolution(image_path, image_files)\n",
    "print(f\"sizes = {sizes}\")\n",
    "print(f\"min_size = {min_size}\")\n",
    "\n",
    "# set min_size = 400\n",
    "min_size = 400\n",
    "\n",
    "X_modern = load_array(image_files, min_size)\n",
    "\n",
    "# y value is one for old buildings\n",
    "y_modern = np.ones((len(image_files),1))\n",
    "\n",
    "print(f\"X_modern shape = {X_modern.shape}\")\n",
    "print(f\"y_modern shape = {y_modern.shape}\")"
   ]
  },
  {
   "cell_type": "code",
   "execution_count": 8,
   "metadata": {},
   "outputs": [
    {
     "name": "stderr",
     "output_type": "stream",
     "text": [
      "c:\\python37\\lib\\site-packages\\PIL\\TiffImagePlugin.py:788: UserWarning: Corrupt EXIF data.  Expecting to read 4 bytes but only got 2. \n",
      "  warnings.warn(str(msg))\n"
     ]
    },
    {
     "name": "stdout",
     "output_type": "stream",
     "text": [
      "sizes = {0: {'row': 430, 'col': 645}, 1: {'row': 437, 'col': 656}, 2: {'row': 437, 'col': 655}, 3: {'row': 437, 'col': 656}, 4: {'row': 437, 'col': 655}, 5: {'row': 437, 'col': 655}, 6: {'row': 437, 'col': 655}, 7: {'row': 437, 'col': 583}, 8: {'row': 437, 'col': 655}, 9: {'row': 437, 'col': 583}, 10: {'row': 437, 'col': 655}, 11: {'row': 437, 'col': 655}, 12: {'row': 437, 'col': 655}, 13: {'row': 437, 'col': 656}, 14: {'row': 437, 'col': 655}, 15: {'row': 437, 'col': 656}, 16: {'row': 437, 'col': 655}, 17: {'row': 437, 'col': 654}, 18: {'row': 438, 'col': 659}, 19: {'row': 438, 'col': 659}, 20: {'row': 438, 'col': 659}, 21: {'row': 438, 'col': 659}, 22: {'row': 438, 'col': 659}, 23: {'row': 438, 'col': 659}, 24: {'row': 438, 'col': 659}, 25: {'row': 438, 'col': 659}, 26: {'row': 437, 'col': 656}, 27: {'row': 437, 'col': 655}, 28: {'row': 437, 'col': 656}, 29: {'row': 437, 'col': 656}, 30: {'row': 437, 'col': 655}, 31: {'row': 437, 'col': 655}, 32: {'row': 436, 'col': 656}, 33: {'row': 437, 'col': 656}, 34: {'row': 430, 'col': 645}, 35: {'row': 437, 'col': 654}, 36: {'row': 437, 'col': 655}, 37: {'row': 437, 'col': 655}, 38: {'row': 437, 'col': 655}, 39: {'row': 434, 'col': 656}, 40: {'row': 437, 'col': 656}, 41: {'row': 437, 'col': 655}, 42: {'row': 437, 'col': 655}, 43: {'row': 437, 'col': 655}, 44: {'row': 437, 'col': 655}, 45: {'row': 437, 'col': 583}, 46: {'row': 437, 'col': 655}, 47: {'row': 437, 'col': 654}, 48: {'row': 437, 'col': 655}, 49: {'row': 437, 'col': 656}, 50: {'row': 437, 'col': 656}, 51: {'row': 437, 'col': 655}, 52: {'row': 437, 'col': 655}, 53: {'row': 437, 'col': 654}, 54: {'row': 437, 'col': 656}, 55: {'row': 437, 'col': 655}, 56: {'row': 437, 'col': 655}, 57: {'row': 437, 'col': 655}, 58: {'row': 437, 'col': 656}, 59: {'row': 437, 'col': 656}, 60: {'row': 437, 'col': 656}, 61: {'row': 430, 'col': 645}, 62: {'row': 437, 'col': 655}, 63: {'row': 431, 'col': 656}, 64: {'row': 437, 'col': 583}, 65: {'row': 437, 'col': 655}, 66: {'row': 437, 'col': 655}, 67: {'row': 437, 'col': 655}, 68: {'row': 437, 'col': 655}, 69: {'row': 437, 'col': 654}, 70: {'row': 437, 'col': 656}, 71: {'row': 437, 'col': 656}, 72: {'row': 437, 'col': 655}, 73: {'row': 430, 'col': 645}, 74: {'row': 437, 'col': 655}, 75: {'row': 437, 'col': 656}, 76: {'row': 436, 'col': 656}, 77: {'row': 437, 'col': 655}, 78: {'row': 393, 'col': 656}, 79: {'row': 435, 'col': 656}, 80: {'row': 437, 'col': 656}, 81: {'row': 437, 'col': 655}, 82: {'row': 437, 'col': 655}, 83: {'row': 437, 'col': 656}, 84: {'row': 436, 'col': 656}, 85: {'row': 437, 'col': 655}, 86: {'row': 437, 'col': 655}, 87: {'row': 430, 'col': 645}, 88: {'row': 437, 'col': 656}, 89: {'row': 437, 'col': 655}, 90: {'row': 437, 'col': 655}, 91: {'row': 437, 'col': 656}, 92: {'row': 437, 'col': 583}, 93: {'row': 437, 'col': 654}, 94: {'row': 437, 'col': 655}, 95: {'row': 437, 'col': 655}, 96: {'row': 434, 'col': 656}, 97: {'row': 437, 'col': 656}, 98: {'row': 437, 'col': 655}, 99: {'row': 437, 'col': 654}}\n",
      "min_size = 393\n",
      "X_old shape = (100, 400, 400, 3)\n",
      "y_old shape = (100, 1)\n"
     ]
    }
   ],
   "source": [
    "# Photos of old or period buildings\n",
    "\n",
    "image_path = \"../images/old_samples/\"\n",
    "image_files = load_files(image_path)\n",
    "\n",
    "# look through the resolution of image files\n",
    "sizes, min_size = get_resolution(image_path, image_files)\n",
    "print(f\"sizes = {sizes}\")\n",
    "print(f\"min_size = {min_size}\")\n",
    "\n",
    "# set min_size = 400\n",
    "min_size = 400\n",
    "\n",
    "X_old = load_array(image_files, min_size)\n",
    "\n",
    "# y value is zero for old buildings\n",
    "y_old = np.zeros((len(image_files),1))\n",
    "\n",
    "print(f\"X_old shape = {X_modern.shape}\")\n",
    "print(f\"y_old shape = {y_modern.shape}\")"
   ]
  },
  {
   "cell_type": "code",
   "execution_count": 9,
   "metadata": {},
   "outputs": [
    {
     "data": {
      "text/plain": [
       "(200, 400, 400, 3)"
      ]
     },
     "execution_count": 9,
     "metadata": {},
     "output_type": "execute_result"
    }
   ],
   "source": [
    "X = np.append(X_old, X_modern, axis = 0)\n",
    "X.shape"
   ]
  },
  {
   "cell_type": "code",
   "execution_count": 10,
   "metadata": {},
   "outputs": [
    {
     "data": {
      "text/plain": [
       "(200, 1)"
      ]
     },
     "execution_count": 10,
     "metadata": {},
     "output_type": "execute_result"
    }
   ],
   "source": [
    "y = np.append(y_old, y_modern, axis=0)\n",
    "y.shape"
   ]
  },
  {
   "cell_type": "markdown",
   "metadata": {},
   "source": [
    "#### Train test split"
   ]
  },
  {
   "cell_type": "code",
   "execution_count": 11,
   "metadata": {},
   "outputs": [],
   "source": [
    "X_train, X_test, y_train, y_test = train_test_split(X, y, stratify=y)"
   ]
  },
  {
   "cell_type": "code",
   "execution_count": 27,
   "metadata": {},
   "outputs": [
    {
     "data": {
      "text/plain": [
       "(150, 1)"
      ]
     },
     "execution_count": 27,
     "metadata": {},
     "output_type": "execute_result"
    }
   ],
   "source": [
    "y_train.shape"
   ]
  },
  {
   "cell_type": "code",
   "execution_count": null,
   "metadata": {},
   "outputs": [],
   "source": [
    "# Baseline accuracy\n",
    "y_train.value_counts()"
   ]
  },
  {
   "cell_type": "code",
   "execution_count": null,
   "metadata": {},
   "outputs": [],
   "source": [
    "y_test.value_counts()"
   ]
  },
  {
   "cell_type": "markdown",
   "metadata": {},
   "source": [
    "#### Standard Scaler"
   ]
  },
  {
   "cell_type": "code",
   "execution_count": 13,
   "metadata": {},
   "outputs": [],
   "source": [
    "## tbc"
   ]
  },
  {
   "cell_type": "code",
   "execution_count": null,
   "metadata": {},
   "outputs": [],
   "source": []
  },
  {
   "cell_type": "markdown",
   "metadata": {},
   "source": [
    "### First trial of model"
   ]
  },
  {
   "cell_type": "code",
   "execution_count": 14,
   "metadata": {},
   "outputs": [],
   "source": [
    "# Instantiate a CNN.\n",
    "cnn_model = Sequential()"
   ]
  },
  {
   "cell_type": "code",
   "execution_count": 15,
   "metadata": {},
   "outputs": [],
   "source": [
    "# Add a convolutional layer.\n",
    "\n",
    "cnn_model.add(Conv2D(filters = 6,            # number of filters\n",
    "                     kernel_size = 3,        # height/width of filter\n",
    "                     activation='relu',      # activation function \n",
    "                     input_shape=(min_size,min_size,3))) # shape of input (image)"
   ]
  },
  {
   "cell_type": "code",
   "execution_count": 16,
   "metadata": {},
   "outputs": [],
   "source": [
    "cnn_model.add(MaxPooling2D(pool_size=(2,2))) # dimensions of region of pooling\n",
    "cnn_model.add(Conv2D(16,\n",
    "                     kernel_size=3,\n",
    "                     activation='relu'))\n",
    "cnn_model.add(MaxPooling2D(pool_size=(2,2)))"
   ]
  },
  {
   "cell_type": "code",
   "execution_count": 17,
   "metadata": {},
   "outputs": [],
   "source": [
    "cnn_model.add(Flatten())"
   ]
  },
  {
   "cell_type": "code",
   "execution_count": 18,
   "metadata": {},
   "outputs": [],
   "source": [
    "# Add a densely-connected layer with 128 neurons.\n",
    "cnn_model.add(Dense(128, activation='relu'))"
   ]
  },
  {
   "cell_type": "code",
   "execution_count": 19,
   "metadata": {},
   "outputs": [],
   "source": [
    "# Add a final layer with 2 neurons.\n",
    "cnn_model.add(Dense(1, activation='sigmoid'))"
   ]
  },
  {
   "cell_type": "code",
   "execution_count": 20,
   "metadata": {},
   "outputs": [],
   "source": [
    "# Compile model\n",
    "cnn_model.compile(loss='binary_crossentropy',\n",
    "                  optimizer='adam',\n",
    "                  metrics=['accuracy'])"
   ]
  },
  {
   "cell_type": "code",
   "execution_count": 21,
   "metadata": {},
   "outputs": [
    {
     "name": "stdout",
     "output_type": "stream",
     "text": [
      "Model: \"sequential\"\n",
      "_________________________________________________________________\n",
      "Layer (type)                 Output Shape              Param #   \n",
      "=================================================================\n",
      "conv2d (Conv2D)              (None, 398, 398, 6)       168       \n",
      "_________________________________________________________________\n",
      "max_pooling2d (MaxPooling2D) (None, 199, 199, 6)       0         \n",
      "_________________________________________________________________\n",
      "conv2d_1 (Conv2D)            (None, 197, 197, 16)      880       \n",
      "_________________________________________________________________\n",
      "max_pooling2d_1 (MaxPooling2 (None, 98, 98, 16)        0         \n",
      "_________________________________________________________________\n",
      "flatten (Flatten)            (None, 153664)            0         \n",
      "_________________________________________________________________\n",
      "dense (Dense)                (None, 128)               19669120  \n",
      "_________________________________________________________________\n",
      "dense_1 (Dense)              (None, 1)                 129       \n",
      "=================================================================\n",
      "Total params: 19,670,297\n",
      "Trainable params: 19,670,297\n",
      "Non-trainable params: 0\n",
      "_________________________________________________________________\n"
     ]
    }
   ],
   "source": [
    "cnn_model.summary()"
   ]
  },
  {
   "cell_type": "code",
   "execution_count": 24,
   "metadata": {},
   "outputs": [],
   "source": [
    "# early stop, drop out to investigate"
   ]
  },
  {
   "cell_type": "code",
   "execution_count": 26,
   "metadata": {},
   "outputs": [
    {
     "name": "stdout",
     "output_type": "stream",
     "text": [
      "Epoch 1/100\n",
      "3/3 [==============================] - 5s 2s/step - loss: 0.9034 - accuracy: 0.6933 - val_loss: 0.9636 - val_accuracy: 0.7600\n",
      "Epoch 2/100\n",
      "3/3 [==============================] - 5s 2s/step - loss: 0.0959 - accuracy: 0.9533 - val_loss: 0.8138 - val_accuracy: 0.7600\n",
      "Epoch 3/100\n",
      "3/3 [==============================] - 6s 2s/step - loss: 0.1617 - accuracy: 0.9333 - val_loss: 0.5752 - val_accuracy: 0.8400\n",
      "Epoch 4/100\n",
      "3/3 [==============================] - 6s 2s/step - loss: 0.0492 - accuracy: 0.9867 - val_loss: 0.7892 - val_accuracy: 0.7800\n",
      "Epoch 5/100\n",
      "3/3 [==============================] - 6s 2s/step - loss: 0.0494 - accuracy: 0.9933 - val_loss: 1.1085 - val_accuracy: 0.6200\n",
      "Epoch 6/100\n",
      "3/3 [==============================] - 6s 2s/step - loss: 0.0778 - accuracy: 0.9867 - val_loss: 0.9763 - val_accuracy: 0.6800\n",
      "Epoch 7/100\n",
      "3/3 [==============================] - 6s 2s/step - loss: 0.0429 - accuracy: 1.0000 - val_loss: 0.7174 - val_accuracy: 0.7800\n",
      "Epoch 8/100\n",
      "3/3 [==============================] - 6s 2s/step - loss: 0.0219 - accuracy: 1.0000 - val_loss: 0.5656 - val_accuracy: 0.8000\n",
      "Epoch 9/100\n",
      "3/3 [==============================] - 6s 2s/step - loss: 0.0191 - accuracy: 0.9933 - val_loss: 0.5515 - val_accuracy: 0.8000\n",
      "Epoch 10/100\n",
      "3/3 [==============================] - 6s 2s/step - loss: 0.0167 - accuracy: 1.0000 - val_loss: 0.5631 - val_accuracy: 0.8000\n",
      "Epoch 11/100\n",
      "3/3 [==============================] - 6s 2s/step - loss: 0.0125 - accuracy: 1.0000 - val_loss: 0.5918 - val_accuracy: 0.8000\n",
      "Epoch 12/100\n",
      "3/3 [==============================] - 6s 2s/step - loss: 0.0082 - accuracy: 1.0000 - val_loss: 0.6405 - val_accuracy: 0.8000\n",
      "Epoch 13/100\n",
      "3/3 [==============================] - 6s 2s/step - loss: 0.0058 - accuracy: 1.0000 - val_loss: 0.7063 - val_accuracy: 0.8000\n",
      "Epoch 14/100\n",
      "3/3 [==============================] - 7s 2s/step - loss: 0.0045 - accuracy: 1.0000 - val_loss: 0.7858 - val_accuracy: 0.8000\n",
      "Epoch 15/100\n",
      "3/3 [==============================] - 7s 2s/step - loss: 0.0035 - accuracy: 1.0000 - val_loss: 0.8662 - val_accuracy: 0.8000\n",
      "Epoch 16/100\n",
      "3/3 [==============================] - 6s 2s/step - loss: 0.0028 - accuracy: 1.0000 - val_loss: 0.9370 - val_accuracy: 0.8000\n",
      "Epoch 17/100\n",
      "3/3 [==============================] - 6s 2s/step - loss: 0.0023 - accuracy: 1.0000 - val_loss: 0.9321 - val_accuracy: 0.8000\n",
      "Epoch 18/100\n",
      "3/3 [==============================] - 6s 2s/step - loss: 0.0018 - accuracy: 1.0000 - val_loss: 0.8424 - val_accuracy: 0.8000\n",
      "Epoch 19/100\n",
      "3/3 [==============================] - 6s 2s/step - loss: 0.0013 - accuracy: 1.0000 - val_loss: 0.7975 - val_accuracy: 0.8000\n",
      "Epoch 20/100\n",
      "3/3 [==============================] - 6s 2s/step - loss: 0.0011 - accuracy: 1.0000 - val_loss: 0.7929 - val_accuracy: 0.8000\n",
      "Epoch 21/100\n",
      "3/3 [==============================] - 6s 2s/step - loss: 8.9919e-04 - accuracy: 1.0000 - val_loss: 0.8193 - val_accuracy: 0.8000\n",
      "Epoch 22/100\n",
      "3/3 [==============================] - 6s 2s/step - loss: 7.4781e-04 - accuracy: 1.0000 - val_loss: 0.8507 - val_accuracy: 0.8200\n",
      "Epoch 23/100\n",
      "3/3 [==============================] - 6s 2s/step - loss: 6.6420e-04 - accuracy: 1.0000 - val_loss: 0.8524 - val_accuracy: 0.8200\n",
      "Epoch 24/100\n",
      "3/3 [==============================] - 6s 2s/step - loss: 5.5674e-04 - accuracy: 1.0000 - val_loss: 0.8431 - val_accuracy: 0.8000\n",
      "Epoch 25/100\n",
      "3/3 [==============================] - 6s 2s/step - loss: 4.8331e-04 - accuracy: 1.0000 - val_loss: 0.8448 - val_accuracy: 0.8000\n",
      "Epoch 26/100\n",
      "3/3 [==============================] - 6s 2s/step - loss: 4.2153e-04 - accuracy: 1.0000 - val_loss: 0.8620 - val_accuracy: 0.8000\n",
      "Epoch 27/100\n",
      "3/3 [==============================] - 6s 2s/step - loss: 3.6268e-04 - accuracy: 1.0000 - val_loss: 0.8900 - val_accuracy: 0.8000\n",
      "Epoch 28/100\n",
      "3/3 [==============================] - 6s 2s/step - loss: 3.1251e-04 - accuracy: 1.0000 - val_loss: 0.9102 - val_accuracy: 0.8000\n",
      "Epoch 29/100\n",
      "3/3 [==============================] - 6s 2s/step - loss: 2.7913e-04 - accuracy: 1.0000 - val_loss: 0.9228 - val_accuracy: 0.8000\n",
      "Epoch 30/100\n",
      "3/3 [==============================] - 6s 2s/step - loss: 2.4515e-04 - accuracy: 1.0000 - val_loss: 0.9102 - val_accuracy: 0.8000\n",
      "Epoch 31/100\n",
      "3/3 [==============================] - 6s 2s/step - loss: 2.1379e-04 - accuracy: 1.0000 - val_loss: 0.8820 - val_accuracy: 0.8000\n",
      "Epoch 32/100\n",
      "3/3 [==============================] - 6s 2s/step - loss: 1.8999e-04 - accuracy: 1.0000 - val_loss: 0.8652 - val_accuracy: 0.8000\n",
      "Epoch 33/100\n",
      "3/3 [==============================] - 6s 2s/step - loss: 1.6861e-04 - accuracy: 1.0000 - val_loss: 0.8676 - val_accuracy: 0.8000\n",
      "Epoch 34/100\n",
      "3/3 [==============================] - 6s 2s/step - loss: 1.5009e-04 - accuracy: 1.0000 - val_loss: 0.8761 - val_accuracy: 0.8000\n",
      "Epoch 35/100\n",
      "3/3 [==============================] - 6s 2s/step - loss: 1.3751e-04 - accuracy: 1.0000 - val_loss: 0.8897 - val_accuracy: 0.8000\n",
      "Epoch 36/100\n",
      "3/3 [==============================] - 6s 2s/step - loss: 1.3140e-04 - accuracy: 1.0000 - val_loss: 0.8879 - val_accuracy: 0.8000\n",
      "Epoch 37/100\n",
      "3/3 [==============================] - 6s 2s/step - loss: 1.1983e-04 - accuracy: 1.0000 - val_loss: 0.8690 - val_accuracy: 0.8000\n",
      "Epoch 38/100\n",
      "3/3 [==============================] - 6s 2s/step - loss: 1.1125e-04 - accuracy: 1.0000 - val_loss: 0.8577 - val_accuracy: 0.8000\n",
      "Epoch 39/100\n",
      "3/3 [==============================] - 6s 2s/step - loss: 1.0142e-04 - accuracy: 1.0000 - val_loss: 0.8679 - val_accuracy: 0.8000\n",
      "Epoch 40/100\n",
      "3/3 [==============================] - 6s 2s/step - loss: 9.4812e-05 - accuracy: 1.0000 - val_loss: 0.8811 - val_accuracy: 0.7800\n",
      "Epoch 41/100\n",
      "3/3 [==============================] - 6s 2s/step - loss: 8.8255e-05 - accuracy: 1.0000 - val_loss: 0.8888 - val_accuracy: 0.8000\n",
      "Epoch 42/100\n",
      "3/3 [==============================] - 6s 2s/step - loss: 8.1881e-05 - accuracy: 1.0000 - val_loss: 0.8920 - val_accuracy: 0.7800\n",
      "Epoch 43/100\n",
      "3/3 [==============================] - 6s 2s/step - loss: 7.6139e-05 - accuracy: 1.0000 - val_loss: 0.8937 - val_accuracy: 0.8000\n",
      "Epoch 44/100\n",
      "3/3 [==============================] - 6s 2s/step - loss: 7.1127e-05 - accuracy: 1.0000 - val_loss: 0.8946 - val_accuracy: 0.8000\n",
      "Epoch 45/100\n",
      "3/3 [==============================] - 6s 2s/step - loss: 6.7027e-05 - accuracy: 1.0000 - val_loss: 0.8932 - val_accuracy: 0.8200\n",
      "Epoch 46/100\n",
      "3/3 [==============================] - 6s 2s/step - loss: 6.3118e-05 - accuracy: 1.0000 - val_loss: 0.8962 - val_accuracy: 0.8200\n",
      "Epoch 47/100\n",
      "3/3 [==============================] - 6s 2s/step - loss: 5.9380e-05 - accuracy: 1.0000 - val_loss: 0.9095 - val_accuracy: 0.8200\n",
      "Epoch 48/100\n",
      "3/3 [==============================] - 6s 2s/step - loss: 5.5876e-05 - accuracy: 1.0000 - val_loss: 0.9229 - val_accuracy: 0.8000\n",
      "Epoch 49/100\n",
      "3/3 [==============================] - 6s 2s/step - loss: 5.2867e-05 - accuracy: 1.0000 - val_loss: 0.9311 - val_accuracy: 0.8000\n",
      "Epoch 50/100\n",
      "3/3 [==============================] - 6s 2s/step - loss: 5.0272e-05 - accuracy: 1.0000 - val_loss: 0.9409 - val_accuracy: 0.7800\n",
      "Epoch 51/100\n",
      "3/3 [==============================] - 6s 2s/step - loss: 4.7460e-05 - accuracy: 1.0000 - val_loss: 0.9421 - val_accuracy: 0.8200\n",
      "Epoch 52/100\n",
      "3/3 [==============================] - 6s 2s/step - loss: 4.4672e-05 - accuracy: 1.0000 - val_loss: 0.9409 - val_accuracy: 0.8200\n",
      "Epoch 53/100\n",
      "3/3 [==============================] - 6s 2s/step - loss: 4.2116e-05 - accuracy: 1.0000 - val_loss: 0.9390 - val_accuracy: 0.8200\n",
      "Epoch 54/100\n",
      "3/3 [==============================] - 7s 2s/step - loss: 4.0087e-05 - accuracy: 1.0000 - val_loss: 0.9381 - val_accuracy: 0.8400\n",
      "Epoch 55/100\n",
      "3/3 [==============================] - 6s 2s/step - loss: 3.8338e-05 - accuracy: 1.0000 - val_loss: 0.9424 - val_accuracy: 0.8400\n",
      "Epoch 56/100\n",
      "3/3 [==============================] - 6s 2s/step - loss: 3.6405e-05 - accuracy: 1.0000 - val_loss: 0.9542 - val_accuracy: 0.8200\n",
      "Epoch 57/100\n",
      "3/3 [==============================] - 6s 2s/step - loss: 3.4802e-05 - accuracy: 1.0000 - val_loss: 0.9656 - val_accuracy: 0.8200\n",
      "Epoch 58/100\n",
      "3/3 [==============================] - 6s 2s/step - loss: 3.3022e-05 - accuracy: 1.0000 - val_loss: 0.9700 - val_accuracy: 0.8200\n"
     ]
    },
    {
     "name": "stdout",
     "output_type": "stream",
     "text": [
      "Epoch 59/100\n",
      "3/3 [==============================] - 6s 2s/step - loss: 3.1718e-05 - accuracy: 1.0000 - val_loss: 0.9740 - val_accuracy: 0.8200\n",
      "Epoch 60/100\n",
      "3/3 [==============================] - 6s 2s/step - loss: 3.0314e-05 - accuracy: 1.0000 - val_loss: 0.9773 - val_accuracy: 0.8400\n",
      "Epoch 61/100\n",
      "3/3 [==============================] - 6s 2s/step - loss: 2.9009e-05 - accuracy: 1.0000 - val_loss: 0.9770 - val_accuracy: 0.8400\n",
      "Epoch 62/100\n",
      "3/3 [==============================] - 6s 2s/step - loss: 2.7691e-05 - accuracy: 1.0000 - val_loss: 0.9779 - val_accuracy: 0.8400\n",
      "Epoch 63/100\n",
      "3/3 [==============================] - 6s 2s/step - loss: 2.6635e-05 - accuracy: 1.0000 - val_loss: 0.9832 - val_accuracy: 0.8400\n",
      "Epoch 64/100\n",
      "3/3 [==============================] - 7s 2s/step - loss: 2.5479e-05 - accuracy: 1.0000 - val_loss: 0.9904 - val_accuracy: 0.8400\n",
      "Epoch 65/100\n",
      "3/3 [==============================] - 6s 2s/step - loss: 2.4485e-05 - accuracy: 1.0000 - val_loss: 0.9967 - val_accuracy: 0.8400\n",
      "Epoch 66/100\n",
      "3/3 [==============================] - 6s 2s/step - loss: 2.3504e-05 - accuracy: 1.0000 - val_loss: 1.0062 - val_accuracy: 0.8400\n",
      "Epoch 67/100\n",
      "3/3 [==============================] - 6s 2s/step - loss: 2.2647e-05 - accuracy: 1.0000 - val_loss: 1.0145 - val_accuracy: 0.8400\n",
      "Epoch 68/100\n",
      "3/3 [==============================] - 6s 2s/step - loss: 2.1945e-05 - accuracy: 1.0000 - val_loss: 1.0215 - val_accuracy: 0.8400\n",
      "Epoch 69/100\n",
      "3/3 [==============================] - 6s 2s/step - loss: 2.1265e-05 - accuracy: 1.0000 - val_loss: 1.0243 - val_accuracy: 0.8400\n",
      "Epoch 70/100\n",
      "3/3 [==============================] - 7s 2s/step - loss: 2.0535e-05 - accuracy: 1.0000 - val_loss: 1.0249 - val_accuracy: 0.8400\n",
      "Epoch 71/100\n",
      "3/3 [==============================] - 6s 2s/step - loss: 1.9897e-05 - accuracy: 1.0000 - val_loss: 1.0247 - val_accuracy: 0.8400\n",
      "Epoch 72/100\n",
      "3/3 [==============================] - 7s 2s/step - loss: 1.9278e-05 - accuracy: 1.0000 - val_loss: 1.0227 - val_accuracy: 0.8400\n",
      "Epoch 73/100\n",
      "3/3 [==============================] - 7s 2s/step - loss: 1.8764e-05 - accuracy: 1.0000 - val_loss: 1.0239 - val_accuracy: 0.8400\n",
      "Epoch 74/100\n",
      "3/3 [==============================] - 6s 2s/step - loss: 1.8312e-05 - accuracy: 1.0000 - val_loss: 1.0257 - val_accuracy: 0.8400\n",
      "Epoch 75/100\n",
      "3/3 [==============================] - 6s 2s/step - loss: 1.7854e-05 - accuracy: 1.0000 - val_loss: 1.0281 - val_accuracy: 0.8400\n",
      "Epoch 76/100\n",
      "3/3 [==============================] - 6s 2s/step - loss: 1.7395e-05 - accuracy: 1.0000 - val_loss: 1.0361 - val_accuracy: 0.8400\n",
      "Epoch 77/100\n",
      "3/3 [==============================] - 6s 2s/step - loss: 1.6882e-05 - accuracy: 1.0000 - val_loss: 1.0421 - val_accuracy: 0.8400\n",
      "Epoch 78/100\n",
      "3/3 [==============================] - 6s 2s/step - loss: 1.6483e-05 - accuracy: 1.0000 - val_loss: 1.0460 - val_accuracy: 0.8400\n",
      "Epoch 79/100\n",
      "3/3 [==============================] - 6s 2s/step - loss: 1.6115e-05 - accuracy: 1.0000 - val_loss: 1.0487 - val_accuracy: 0.8400\n",
      "Epoch 80/100\n",
      "3/3 [==============================] - 6s 2s/step - loss: 1.5752e-05 - accuracy: 1.0000 - val_loss: 1.0491 - val_accuracy: 0.8400\n",
      "Epoch 81/100\n",
      "3/3 [==============================] - 6s 2s/step - loss: 1.5395e-05 - accuracy: 1.0000 - val_loss: 1.0520 - val_accuracy: 0.8400\n",
      "Epoch 82/100\n",
      "3/3 [==============================] - 6s 2s/step - loss: 1.5062e-05 - accuracy: 1.0000 - val_loss: 1.0557 - val_accuracy: 0.8400\n",
      "Epoch 83/100\n",
      "3/3 [==============================] - 6s 2s/step - loss: 1.4737e-05 - accuracy: 1.0000 - val_loss: 1.0560 - val_accuracy: 0.8400\n",
      "Epoch 84/100\n",
      "3/3 [==============================] - 6s 2s/step - loss: 1.4384e-05 - accuracy: 1.0000 - val_loss: 1.0582 - val_accuracy: 0.8400\n",
      "Epoch 85/100\n",
      "3/3 [==============================] - 6s 2s/step - loss: 1.4079e-05 - accuracy: 1.0000 - val_loss: 1.0615 - val_accuracy: 0.8400\n",
      "Epoch 86/100\n",
      "3/3 [==============================] - 6s 2s/step - loss: 1.3796e-05 - accuracy: 1.0000 - val_loss: 1.0609 - val_accuracy: 0.8400\n",
      "Epoch 87/100\n",
      "3/3 [==============================] - 6s 2s/step - loss: 1.3490e-05 - accuracy: 1.0000 - val_loss: 1.0632 - val_accuracy: 0.8400\n",
      "Epoch 88/100\n",
      "3/3 [==============================] - 6s 2s/step - loss: 1.3196e-05 - accuracy: 1.0000 - val_loss: 1.0640 - val_accuracy: 0.8400\n",
      "Epoch 89/100\n",
      "3/3 [==============================] - 6s 2s/step - loss: 1.2932e-05 - accuracy: 1.0000 - val_loss: 1.0657 - val_accuracy: 0.8400\n",
      "Epoch 90/100\n",
      "3/3 [==============================] - 6s 2s/step - loss: 1.2665e-05 - accuracy: 1.0000 - val_loss: 1.0678 - val_accuracy: 0.8400\n",
      "Epoch 91/100\n",
      "3/3 [==============================] - 6s 2s/step - loss: 1.2418e-05 - accuracy: 1.0000 - val_loss: 1.0717 - val_accuracy: 0.8400\n",
      "Epoch 92/100\n",
      "3/3 [==============================] - 6s 2s/step - loss: 1.2243e-05 - accuracy: 1.0000 - val_loss: 1.0762 - val_accuracy: 0.8400\n",
      "Epoch 93/100\n",
      "3/3 [==============================] - 6s 2s/step - loss: 1.2009e-05 - accuracy: 1.0000 - val_loss: 1.0768 - val_accuracy: 0.8400\n",
      "Epoch 94/100\n",
      "3/3 [==============================] - 6s 2s/step - loss: 1.1769e-05 - accuracy: 1.0000 - val_loss: 1.0725 - val_accuracy: 0.8400\n",
      "Epoch 95/100\n",
      "3/3 [==============================] - 6s 2s/step - loss: 1.1515e-05 - accuracy: 1.0000 - val_loss: 1.0660 - val_accuracy: 0.8400\n",
      "Epoch 96/100\n",
      "3/3 [==============================] - 6s 2s/step - loss: 1.1263e-05 - accuracy: 1.0000 - val_loss: 1.0629 - val_accuracy: 0.8400\n",
      "Epoch 97/100\n",
      "3/3 [==============================] - 6s 2s/step - loss: 1.1097e-05 - accuracy: 1.0000 - val_loss: 1.0596 - val_accuracy: 0.8400\n",
      "Epoch 98/100\n",
      "3/3 [==============================] - 6s 2s/step - loss: 1.0922e-05 - accuracy: 1.0000 - val_loss: 1.0592 - val_accuracy: 0.8400\n",
      "Epoch 99/100\n",
      "3/3 [==============================] - 6s 2s/step - loss: 1.0752e-05 - accuracy: 1.0000 - val_loss: 1.0622 - val_accuracy: 0.8400\n",
      "Epoch 100/100\n",
      "3/3 [==============================] - 6s 2s/step - loss: 1.0537e-05 - accuracy: 1.0000 - val_loss: 1.0689 - val_accuracy: 0.8400\n"
     ]
    }
   ],
   "source": [
    "# Fit model on training data\n",
    "history = cnn_model.fit(X_train,\n",
    "                        y_train,\n",
    "                        batch_size=64,\n",
    "                        validation_data=(X_test, y_test),\n",
    "                        epochs=100,\n",
    "                        verbose=1)"
   ]
  },
  {
   "cell_type": "code",
   "execution_count": 23,
   "metadata": {},
   "outputs": [
    {
     "data": {
      "image/png": "[encoded data removed]",
      "text/plain": [
       "<Figure size 864x576 with 1 Axes>"
      ]
     },
     "metadata": {
      "needs_background": "light"
     },
     "output_type": "display_data"
    }
   ],
   "source": [
    "train_loss = history.history['loss']\n",
    "test_loss = history.history['val_loss']\n",
    "plt.figure(figsize=(12, 8))\n",
    "plt.plot(train_loss, label='Training loss', color='navy')\n",
    "plt.plot(test_loss, label='Testing loss', color='skyblue')\n",
    "plt.legend();"
   ]
  },
  {
   "cell_type": "code",
   "execution_count": 28,
   "metadata": {},
   "outputs": [],
   "source": [
    "# List out the images of misclassification\n",
    "y_pred = cnn_model.predict(X_test)"
   ]
  },
  {
   "cell_type": "code",
   "execution_count": 33,
   "metadata": {},
   "outputs": [
    {
     "data": {
      "text/plain": [
       "array([[1.],\n",
       "       [1.],\n",
       "       [0.],\n",
       "       [0.],\n",
       "       [0.],\n",
       "       [0.],\n",
       "       [1.],\n",
       "       [0.],\n",
       "       [0.],\n",
       "       [1.],\n",
       "       [1.],\n",
       "       [1.],\n",
       "       [1.],\n",
       "       [1.],\n",
       "       [1.],\n",
       "       [1.],\n",
       "       [0.],\n",
       "       [0.],\n",
       "       [1.],\n",
       "       [0.],\n",
       "       [0.],\n",
       "       [1.],\n",
       "       [0.],\n",
       "       [0.],\n",
       "       [1.],\n",
       "       [1.],\n",
       "       [0.],\n",
       "       [0.],\n",
       "       [1.],\n",
       "       [0.],\n",
       "       [0.],\n",
       "       [0.],\n",
       "       [0.],\n",
       "       [0.],\n",
       "       [1.],\n",
       "       [0.],\n",
       "       [1.],\n",
       "       [0.],\n",
       "       [0.],\n",
       "       [0.],\n",
       "       [1.],\n",
       "       [0.],\n",
       "       [0.],\n",
       "       [0.],\n",
       "       [0.],\n",
       "       [1.],\n",
       "       [1.],\n",
       "       [1.],\n",
       "       [1.],\n",
       "       [1.]], dtype=float32)"
      ]
     },
     "execution_count": 33,
     "metadata": {},
     "output_type": "execute_result"
    }
   ],
   "source": [
    "y_pred.round()"
   ]
  },
  {
   "cell_type": "code",
   "execution_count": 34,
   "metadata": {},
   "outputs": [
    {
     "data": {
      "text/plain": [
       "array([[1.],\n",
       "       [1.],\n",
       "       [1.],\n",
       "       [0.],\n",
       "       [0.],\n",
       "       [0.],\n",
       "       [0.],\n",
       "       [1.],\n",
       "       [0.],\n",
       "       [1.],\n",
       "       [1.],\n",
       "       [1.],\n",
       "       [1.],\n",
       "       [1.],\n",
       "       [1.],\n",
       "       [1.],\n",
       "       [0.],\n",
       "       [0.],\n",
       "       [1.],\n",
       "       [0.],\n",
       "       [0.],\n",
       "       [1.],\n",
       "       [0.],\n",
       "       [1.],\n",
       "       [1.],\n",
       "       [1.],\n",
       "       [0.],\n",
       "       [0.],\n",
       "       [1.],\n",
       "       [1.],\n",
       "       [0.],\n",
       "       [1.],\n",
       "       [0.],\n",
       "       [0.],\n",
       "       [0.],\n",
       "       [0.],\n",
       "       [0.],\n",
       "       [0.],\n",
       "       [0.],\n",
       "       [0.],\n",
       "       [1.],\n",
       "       [0.],\n",
       "       [0.],\n",
       "       [0.],\n",
       "       [0.],\n",
       "       [1.],\n",
       "       [1.],\n",
       "       [1.],\n",
       "       [1.],\n",
       "       [1.]])"
      ]
     },
     "execution_count": 34,
     "metadata": {},
     "output_type": "execute_result"
    }
   ],
   "source": [
    "y_test"
   ]
  },
  {
   "cell_type": "code",
   "execution_count": 36,
   "metadata": {},
   "outputs": [
    {
     "data": {
      "text/plain": [
       "array([[[[0.8272118 , 0.80760395, 0.78407454],\n",
       "         [0.82351167, 0.80390383, 0.78037442],\n",
       "         [0.82101961, 0.80141176, 0.77788235],\n",
       "         ...,\n",
       "         [0.8       , 0.78431373, 0.77254902],\n",
       "         [0.8       , 0.78431373, 0.77254902],\n",
       "         [0.80254801, 0.78686173, 0.77509703]],\n",
       "\n",
       "        [[0.82173529, 0.80212745, 0.77859804],\n",
       "         [0.81906373, 0.79945588, 0.77592647],\n",
       "         [0.81673529, 0.79712745, 0.77359804],\n",
       "         ...,\n",
       "         [0.79945588, 0.78376961, 0.7720049 ],\n",
       "         [0.79945588, 0.78376961, 0.7720049 ],\n",
       "         [0.79945588, 0.78376961, 0.7720049 ]],\n",
       "\n",
       "        [[0.81864691, 0.79903906, 0.77550965],\n",
       "         [0.81659314, 0.79698529, 0.77345588],\n",
       "         [0.81389629, 0.79428845, 0.77075904],\n",
       "         ...,\n",
       "         [0.79517157, 0.77948529, 0.76772059],\n",
       "         [0.79517157, 0.77948529, 0.76772059],\n",
       "         [0.79578937, 0.78010309, 0.76833839]],\n",
       "\n",
       "        ...,\n",
       "\n",
       "        [[0.75773499, 0.64793107, 0.56557812],\n",
       "         [0.75695496, 0.64715104, 0.5647981 ],\n",
       "         [0.74884651, 0.63904259, 0.55668964],\n",
       "         ...,\n",
       "         [0.821911  , 0.77485218, 0.72779335],\n",
       "         [0.79197595, 0.74491713, 0.6978583 ],\n",
       "         [0.78159314, 0.73453431, 0.68747549]],\n",
       "\n",
       "        [[0.7495754 , 0.63977148, 0.55741854],\n",
       "         [0.74352451, 0.63372059, 0.55136765],\n",
       "         [0.7364568 , 0.62665288, 0.54429994],\n",
       "         ...,\n",
       "         [0.83650444, 0.78944562, 0.7423868 ],\n",
       "         [0.81215545, 0.76509663, 0.71803781],\n",
       "         [0.7898443 , 0.74278548, 0.69572665]],\n",
       "\n",
       "        [[0.74402941, 0.63422549, 0.55187255],\n",
       "         [0.73403128, 0.62422736, 0.54187442],\n",
       "         [0.72592662, 0.6161227 , 0.53376976],\n",
       "         ...,\n",
       "         [0.84735769, 0.80029887, 0.75324004],\n",
       "         [0.82604902, 0.7789902 , 0.73193137],\n",
       "         [0.79940787, 0.75234905, 0.70529023]]],\n",
       "\n",
       "\n",
       "       [[[0.98532477, 0.97356006, 0.95282229],\n",
       "         [0.96881491, 0.95705021, 0.93727332],\n",
       "         [0.9665405 , 0.9547758 , 0.93307714],\n",
       "         ...,\n",
       "         [0.9285049 , 0.93260784, 0.91080263],\n",
       "         [0.93261275, 0.93297178, 0.91692647],\n",
       "         [0.93902451, 0.94294608, 0.92333824]],\n",
       "\n",
       "        [[0.97574138, 0.96397668, 0.94544118],\n",
       "         [0.96009447, 0.94832977, 0.92888235],\n",
       "         [0.95577451, 0.9440098 , 0.92638621],\n",
       "         ...,\n",
       "         [0.90839602, 0.91601471, 0.89640686],\n",
       "         [0.91282353, 0.9167451 , 0.89661898],\n",
       "         [0.91923529, 0.92315686, 0.90354902]],\n",
       "\n",
       "        [[0.96915196, 0.95738725, 0.93777941],\n",
       "         [0.95259314, 0.94082843, 0.92122059],\n",
       "         [0.94811275, 0.93634804, 0.91727298],\n",
       "         ...,\n",
       "         [0.90109651, 0.90678922, 0.88718137],\n",
       "         [0.90697549, 0.91089706, 0.88841771],\n",
       "         [0.91338725, 0.91730882, 0.89770098]],\n",
       "\n",
       "        ...,\n",
       "\n",
       "        [[0.88732353, 0.87555882, 0.84026471],\n",
       "         [0.86914706, 0.85738235, 0.82208824],\n",
       "         [0.88514706, 0.87568627, 0.83223683],\n",
       "         ...,\n",
       "         [0.18373836, 0.26715165, 0.2213364 ],\n",
       "         [0.22687776, 0.30762181, 0.24984835],\n",
       "         [0.30325699, 0.36992365, 0.30966875]],\n",
       "\n",
       "        [[0.89926961, 0.8875049 , 0.85221078],\n",
       "         [0.88109314, 0.86932843, 0.83403431],\n",
       "         [0.89709314, 0.88763235, 0.84718627],\n",
       "         ...,\n",
       "         [0.25474032, 0.33718848, 0.29770006],\n",
       "         [0.20535202, 0.28052582, 0.23170006],\n",
       "         [0.15862581, 0.22529248, 0.16610991]],\n",
       "\n",
       "        [[0.91586275, 0.90409804, 0.86880392],\n",
       "         [0.89768627, 0.88592157, 0.85062745],\n",
       "         [0.91368627, 0.90422549, 0.86212616],\n",
       "         ...,\n",
       "         [0.39946207, 0.48027218, 0.44174277],\n",
       "         [0.28879842, 0.36632055, 0.31907545],\n",
       "         [0.11443404, 0.17736051, 0.12600876]]],\n",
       "\n",
       "\n",
       "       [[[0.92904902, 0.94865686, 0.97218627],\n",
       "         [0.92528431, 0.94489216, 0.96842157],\n",
       "         [0.91885294, 0.93846078, 0.9619902 ],\n",
       "         ...,\n",
       "         [0.89865098, 0.67597843, 0.51670392],\n",
       "         [0.88885078, 0.68559843, 0.54184608],\n",
       "         [0.91949863, 0.72639157, 0.60031392]],\n",
       "\n",
       "        [[0.92048039, 0.94008824, 0.96361765],\n",
       "         [0.91671569, 0.93632353, 0.95985294],\n",
       "         [0.91028431, 0.92989216, 0.95342157],\n",
       "         ...,\n",
       "         [0.86655392, 0.64733627, 0.50574314],\n",
       "         [0.92031922, 0.72550765, 0.60035353],\n",
       "         [0.92028392, 0.73435275, 0.62493373]],\n",
       "\n",
       "        [[0.91372549, 0.93333333, 0.95686275],\n",
       "         [0.90996078, 0.92956863, 0.95309804],\n",
       "         [0.90352941, 0.92313725, 0.94666667],\n",
       "         ...,\n",
       "         [0.89364216, 0.68930392, 0.57040196],\n",
       "         [0.88090588, 0.69389118, 0.59764902],\n",
       "         [0.88593039, 0.70767843, 0.62137843]],\n",
       "\n",
       "        ...,\n",
       "\n",
       "        [[0.86187745, 0.85795588, 0.84226961],\n",
       "         [0.84975098, 0.84582941, 0.83014314],\n",
       "         [0.82781863, 0.82389706, 0.80821078],\n",
       "         ...,\n",
       "         [0.58872549, 0.63186275, 0.36127451],\n",
       "         [0.6821598 , 0.72529706, 0.45470882],\n",
       "         [0.70146667, 0.74460392, 0.47401569]],\n",
       "\n",
       "        [[0.84216   , 0.83823843, 0.82255216],\n",
       "         [0.82937902, 0.82545745, 0.80977118],\n",
       "         [0.85346863, 0.84954706, 0.83386078],\n",
       "         ...,\n",
       "         [0.57023725, 0.61337451, 0.34278627],\n",
       "         [0.6334098 , 0.67654706, 0.40595882],\n",
       "         [0.5761949 , 0.61933216, 0.34874392]],\n",
       "\n",
       "        [[0.8527602 , 0.84883863, 0.83315235],\n",
       "         [0.81561745, 0.81169588, 0.79600961],\n",
       "         [0.89693725, 0.89301569, 0.87732941],\n",
       "         ...,\n",
       "         [0.49528333, 0.53842059, 0.26932843],\n",
       "         [0.56065784, 0.6037951 , 0.33694706],\n",
       "         [0.56776686, 0.61090412, 0.34405608]]],\n",
       "\n",
       "\n",
       "       ...,\n",
       "\n",
       "\n",
       "       [[[0.80392157, 0.80392157, 0.80392157],\n",
       "         [0.80392157, 0.80392157, 0.80392157],\n",
       "         [0.80632368, 0.80632368, 0.80632368],\n",
       "         ...,\n",
       "         [0.81176471, 0.81176471, 0.81176471],\n",
       "         [0.80784314, 0.80784314, 0.80784314],\n",
       "         [0.80784314, 0.80784314, 0.80784314]],\n",
       "\n",
       "        [[0.80392157, 0.80392157, 0.80392157],\n",
       "         [0.80444188, 0.80444188, 0.80444188],\n",
       "         [0.80784314, 0.80784314, 0.80784314],\n",
       "         ...,\n",
       "         [0.81176471, 0.81176471, 0.81176471],\n",
       "         [0.80784314, 0.80784314, 0.80784314],\n",
       "         [0.80784314, 0.80784314, 0.80784314]],\n",
       "\n",
       "        [[0.80482843, 0.80482843, 0.80482843],\n",
       "         [0.80771124, 0.80771124, 0.80771124],\n",
       "         [0.80838159, 0.80838159, 0.80838159],\n",
       "         ...,\n",
       "         [0.81176471, 0.81176471, 0.81176471],\n",
       "         [0.80784314, 0.80784314, 0.80784314],\n",
       "         [0.80784314, 0.80784314, 0.80784314]],\n",
       "\n",
       "        ...,\n",
       "\n",
       "        [[0.61130407, 0.47404917, 0.36424525],\n",
       "         [0.58875   , 0.4514951 , 0.34169118],\n",
       "         [0.59357843, 0.45632353, 0.34651961],\n",
       "         ...,\n",
       "         [0.3648606 , 0.34684589, 0.35775276],\n",
       "         [0.41623943, 0.38094531, 0.39236688],\n",
       "         [0.33169853, 0.28838971, 0.29025751]],\n",
       "\n",
       "        [[0.60730882, 0.47005392, 0.36025   ],\n",
       "         [0.58537255, 0.44811765, 0.33831373],\n",
       "         [0.59448529, 0.45723039, 0.34742647],\n",
       "         ...,\n",
       "         [0.20942999, 0.19141529, 0.20232215],\n",
       "         [0.42209464, 0.38680052, 0.39822209],\n",
       "         [0.38034173, 0.3370329 , 0.3382829 ]],\n",
       "\n",
       "        [[0.60302451, 0.46576961, 0.35596569],\n",
       "         [0.5846648 , 0.4474099 , 0.33760597],\n",
       "         [0.59670604, 0.45945113, 0.34964721],\n",
       "         ...,\n",
       "         [0.04566085, 0.03208762, 0.038553  ],\n",
       "         [0.33366976, 0.29837564, 0.30979721],\n",
       "         [0.49161517, 0.44830634, 0.44955634]]],\n",
       "\n",
       "\n",
       "       [[[0.63529412, 0.60784314, 0.54509804],\n",
       "         [0.63529412, 0.60784314, 0.54509804],\n",
       "         [0.63529412, 0.60784314, 0.54509804],\n",
       "         ...,\n",
       "         [0.67843137, 0.68235294, 0.6627451 ],\n",
       "         [0.67843137, 0.68235294, 0.6627451 ],\n",
       "         [0.67843137, 0.68235294, 0.6627451 ]],\n",
       "\n",
       "        [[0.63529412, 0.60784314, 0.54509804],\n",
       "         [0.63529412, 0.60784314, 0.54509804],\n",
       "         [0.63529412, 0.60784314, 0.54509804],\n",
       "         ...,\n",
       "         [0.67843137, 0.68235294, 0.6627451 ],\n",
       "         [0.67843137, 0.68235294, 0.6627451 ],\n",
       "         [0.67843137, 0.68235294, 0.6627451 ]],\n",
       "\n",
       "        [[0.63441176, 0.60696078, 0.54421569],\n",
       "         [0.63441176, 0.60696078, 0.54421569],\n",
       "         [0.63441176, 0.60696078, 0.54421569],\n",
       "         ...,\n",
       "         [0.67843137, 0.68235294, 0.6627451 ],\n",
       "         [0.67843137, 0.68235294, 0.6627451 ],\n",
       "         [0.67843137, 0.68235294, 0.6627451 ]],\n",
       "\n",
       "        ...,\n",
       "\n",
       "        [[0.62412941, 0.53001176, 0.43589412],\n",
       "         [0.62352941, 0.52941176, 0.43529412],\n",
       "         [0.62352941, 0.52941176, 0.43529412],\n",
       "         ...,\n",
       "         [0.73568627, 0.70431373, 0.65333333],\n",
       "         [0.73317647, 0.70180392, 0.65082353],\n",
       "         [0.7267451 , 0.69537255, 0.64439216]],\n",
       "\n",
       "        [[0.62352941, 0.52941176, 0.43529412],\n",
       "         [0.62352941, 0.52941176, 0.43529412],\n",
       "         [0.62352941, 0.52941176, 0.43529412],\n",
       "         ...,\n",
       "         [0.73568627, 0.70431373, 0.65333333],\n",
       "         [0.73317647, 0.70180392, 0.65082353],\n",
       "         [0.7267451 , 0.69537255, 0.64439216]],\n",
       "\n",
       "        [[0.61978431, 0.52566667, 0.43154902],\n",
       "         [0.61978431, 0.52566667, 0.43154902],\n",
       "         [0.62203137, 0.52791373, 0.43379608],\n",
       "         ...,\n",
       "         [0.73568627, 0.70431373, 0.65333333],\n",
       "         [0.73317647, 0.70180392, 0.65082353],\n",
       "         [0.7267451 , 0.69537255, 0.64439216]]],\n",
       "\n",
       "\n",
       "       [[[0.91728431, 0.91728431, 0.91728431],\n",
       "         [0.91336088, 0.91336088, 0.91336088],\n",
       "         [0.90693137, 0.90693137, 0.90693137],\n",
       "         ...,\n",
       "         [0.91158824, 0.91158824, 0.91158824],\n",
       "         [0.90943137, 0.90943137, 0.90943137],\n",
       "         [0.92119608, 0.92119608, 0.92119608]],\n",
       "\n",
       "        [[0.90817157, 0.90817157, 0.90817157],\n",
       "         [0.90119188, 0.90119188, 0.90119188],\n",
       "         [0.89462255, 0.89462255, 0.89462255],\n",
       "         ...,\n",
       "         [0.89873529, 0.89873529, 0.89873529],\n",
       "         [0.89605812, 0.89605812, 0.89605812],\n",
       "         [0.90834314, 0.90834314, 0.90834314]],\n",
       "\n",
       "        [[0.89713235, 0.89713235, 0.89713235],\n",
       "         [0.89251517, 0.89251517, 0.89251517],\n",
       "         [0.88605392, 0.88605392, 0.88605392],\n",
       "         ...,\n",
       "         [0.88678922, 0.88678922, 0.88678922],\n",
       "         [0.88174954, 0.88174954, 0.88174954],\n",
       "         [0.89639706, 0.89639706, 0.89639706]],\n",
       "\n",
       "        ...,\n",
       "\n",
       "        [[0.62518673, 0.58597105, 0.55067693],\n",
       "         [0.6306921 , 0.59147641, 0.55618229],\n",
       "         [0.6214231 , 0.58220741, 0.5469133 ],\n",
       "         ...,\n",
       "         [0.8745098 , 0.8745098 , 0.8745098 ],\n",
       "         [0.8707598 , 0.8707598 , 0.8707598 ],\n",
       "         [0.87985294, 0.87985294, 0.87985294]],\n",
       "\n",
       "        [[0.58264332, 0.54342763, 0.50813352],\n",
       "         [0.6060273 , 0.56681161, 0.53151749],\n",
       "         [0.61412301, 0.57490732, 0.5396132 ],\n",
       "         ...,\n",
       "         [0.87788725, 0.87788725, 0.87788725],\n",
       "         [0.87751471, 0.87751471, 0.87751471],\n",
       "         [0.88660784, 0.88660784, 0.88660784]],\n",
       "\n",
       "        [[0.5761932 , 0.53697751, 0.50168339],\n",
       "         [0.61412862, 0.57491293, 0.53961881],\n",
       "         [0.63650031, 0.59728462, 0.5619905 ],\n",
       "         ...,\n",
       "         [0.88965196, 0.88965196, 0.88965196],\n",
       "         [0.88608333, 0.88608333, 0.88608333],\n",
       "         [0.89517647, 0.89517647, 0.89517647]]]])"
      ]
     },
     "execution_count": 36,
     "metadata": {},
     "output_type": "execute_result"
    }
   ],
   "source": [
    "X_test"
   ]
  },
  {
   "cell_type": "code",
   "execution_count": null,
   "metadata": {},
   "outputs": [],
   "source": [
    "# comparing y_test vs y_predict\n",
    "compare_results = pd.DataFrame(\"y_test\")"
   ]
  }
 ],
 "metadata": {
  "kernelspec": {
   "display_name": "Python 3",
   "language": "python",
   "name": "python3"
  },
  "language_info": {
   "codemirror_mode": {
    "name": "ipython",
    "version": 3
   },
   "file_extension": ".py",
   "mimetype": "text/x-python",
   "name": "python",
   "nbconvert_exporter": "python",
   "pygments_lexer": "ipython3",
   "version": "3.7.7"
  }
 },
 "nbformat": 4,
 "nbformat_minor": 2
}
