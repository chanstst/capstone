{
 "cells": [
  {
   "cell_type": "markdown",
   "metadata": {},
   "source": [
    "# UK Property Image Classification\n",
    "### Transfer learning - VGG16\n",
    "\n",
    "---"
   ]
  },
  {
   "cell_type": "markdown",
   "metadata": {},
   "source": [
    "#### Data:\n",
    "Same image data as in second model\n",
    "\n",
    "#### Model:\n",
    "Transfer learning - VGG16\n",
    "\n",
    "#### Initial model results:\n",
    "[ ]"
   ]
  },
  {
   "cell_type": "markdown",
   "metadata": {},
   "source": [
    "### Importing libraries"
   ]
  },
  {
   "cell_type": "code",
   "execution_count": 2,
   "metadata": {},
   "outputs": [],
   "source": [
    "import pandas as pd\n",
    "import numpy as np\n",
    "import matplotlib.pyplot as plt\n",
    "import matplotlib.image as mpimg\n",
    "import os\n",
    "from math import ceil\n",
    "from PIL import Image\n",
    "\n",
    "from sklearn.model_selection import train_test_split\n",
    "from sklearn.preprocessing import StandardScaler, LabelEncoder\n",
    "\n",
    "from skimage import io\n",
    "from skimage import color\n",
    "from skimage.transform import rescale, resize, downscale_local_mean\n",
    "\n",
    "import pickle"
   ]
  },
  {
   "cell_type": "code",
   "execution_count": 3,
   "metadata": {},
   "outputs": [],
   "source": [
    "from tensorflow.keras.models import Sequential, Model\n",
    "from tensorflow.keras.layers import Dense, Dropout, Activation, Flatten\n",
    "from tensorflow.keras.layers import Conv2D, MaxPooling2D\n",
    "from tensorflow.keras.applications.vgg16 import VGG16"
   ]
  },
  {
   "cell_type": "code",
   "execution_count": 4,
   "metadata": {},
   "outputs": [],
   "source": [
    "# For reproducibility\n",
    "np.random.seed(42)"
   ]
  },
  {
   "cell_type": "code",
   "execution_count": 5,
   "metadata": {},
   "outputs": [],
   "source": [
    "BATCH_SIZE = 32\n",
    "IMG_SIZE = (400, 400)\n",
    "\n",
    "# Create the base model from the pre-trained model VGG16\n",
    "IMG_SHAPE = IMG_SIZE + (3,)\n",
    "input_model = VGG16(input_shape=IMG_SHAPE, include_top=False, weights='imagenet')"
   ]
  },
  {
   "cell_type": "code",
   "execution_count": 6,
   "metadata": {},
   "outputs": [],
   "source": [
    "input_model.trainable=False"
   ]
  },
  {
   "cell_type": "code",
   "execution_count": 7,
   "metadata": {},
   "outputs": [],
   "source": [
    "# add new classifier layers\n",
    "flat1 = Flatten()(input_model.layers[-1].output)\n",
    "class1 = Dense(128, activation='relu')(flat1)\n",
    "output = Dense(1, activation='sigmoid')(class1)\n",
    "# define new model\n",
    "model = Model(inputs=input_model.inputs, outputs=output)"
   ]
  },
  {
   "cell_type": "code",
   "execution_count": 8,
   "metadata": {},
   "outputs": [
    {
     "name": "stdout",
     "output_type": "stream",
     "text": [
      "Model: \"model\"\n",
      "_________________________________________________________________\n",
      "Layer (type)                 Output Shape              Param #   \n",
      "=================================================================\n",
      "input_1 (InputLayer)         [(None, 400, 400, 3)]     0         \n",
      "_________________________________________________________________\n",
      "block1_conv1 (Conv2D)        (None, 400, 400, 64)      1792      \n",
      "_________________________________________________________________\n",
      "block1_conv2 (Conv2D)        (None, 400, 400, 64)      36928     \n",
      "_________________________________________________________________\n",
      "block1_pool (MaxPooling2D)   (None, 200, 200, 64)      0         \n",
      "_________________________________________________________________\n",
      "block2_conv1 (Conv2D)        (None, 200, 200, 128)     73856     \n",
      "_________________________________________________________________\n",
      "block2_conv2 (Conv2D)        (None, 200, 200, 128)     147584    \n",
      "_________________________________________________________________\n",
      "block2_pool (MaxPooling2D)   (None, 100, 100, 128)     0         \n",
      "_________________________________________________________________\n",
      "block3_conv1 (Conv2D)        (None, 100, 100, 256)     295168    \n",
      "_________________________________________________________________\n",
      "block3_conv2 (Conv2D)        (None, 100, 100, 256)     590080    \n",
      "_________________________________________________________________\n",
      "block3_conv3 (Conv2D)        (None, 100, 100, 256)     590080    \n",
      "_________________________________________________________________\n",
      "block3_pool (MaxPooling2D)   (None, 50, 50, 256)       0         \n",
      "_________________________________________________________________\n",
      "block4_conv1 (Conv2D)        (None, 50, 50, 512)       1180160   \n",
      "_________________________________________________________________\n",
      "block4_conv2 (Conv2D)        (None, 50, 50, 512)       2359808   \n",
      "_________________________________________________________________\n",
      "block4_conv3 (Conv2D)        (None, 50, 50, 512)       2359808   \n",
      "_________________________________________________________________\n",
      "block4_pool (MaxPooling2D)   (None, 25, 25, 512)       0         \n",
      "_________________________________________________________________\n",
      "block5_conv1 (Conv2D)        (None, 25, 25, 512)       2359808   \n",
      "_________________________________________________________________\n",
      "block5_conv2 (Conv2D)        (None, 25, 25, 512)       2359808   \n",
      "_________________________________________________________________\n",
      "block5_conv3 (Conv2D)        (None, 25, 25, 512)       2359808   \n",
      "_________________________________________________________________\n",
      "block5_pool (MaxPooling2D)   (None, 12, 12, 512)       0         \n",
      "_________________________________________________________________\n",
      "flatten (Flatten)            (None, 73728)             0         \n",
      "_________________________________________________________________\n",
      "dense (Dense)                (None, 128)               9437312   \n",
      "_________________________________________________________________\n",
      "dense_1 (Dense)              (None, 1)                 129       \n",
      "=================================================================\n",
      "Total params: 24,152,129\n",
      "Trainable params: 9,437,441\n",
      "Non-trainable params: 14,714,688\n",
      "_________________________________________________________________\n",
      "None\n"
     ]
    }
   ],
   "source": [
    "print(model.summary())"
   ]
  },
  {
   "cell_type": "code",
   "execution_count": null,
   "metadata": {},
   "outputs": [],
   "source": []
  },
  {
   "cell_type": "code",
   "execution_count": null,
   "metadata": {},
   "outputs": [],
   "source": []
  },
  {
   "cell_type": "code",
   "execution_count": 9,
   "metadata": {},
   "outputs": [],
   "source": [
    "# function to load folder into arrays and  then it returns that same array\n",
    "\n",
    "def load_files(path):\n",
    "    # Put files into lists and return them as one list of size 4\n",
    "    image_files = os.listdir(path)\n",
    "    image_files = [path + x for x in image_files]\n",
    "    return image_files"
   ]
  },
  {
   "cell_type": "code",
   "execution_count": 10,
   "metadata": {},
   "outputs": [],
   "source": [
    "# feeding images into numpy ndarray\n",
    "\n",
    "def load_array(image_files, min_size):\n",
    "    X = np.array([])\n",
    "    for file in image_files:\n",
    "        try:\n",
    "            img = io.imread(file)\n",
    "            img_resized = resize(img, (min_size,min_size), anti_aliasing=True)\n",
    "            if X.shape[0] == 0:\n",
    "                X = np.array([img_resized])\n",
    "            else:\n",
    "                X = np.append(X, [img_resized], axis = 0)\n",
    "        \n",
    "        except:\n",
    "            print(\"image error: \", file)\n",
    "    return X\n",
    "\n"
   ]
  },
  {
   "cell_type": "markdown",
   "metadata": {},
   "source": [
    "#### Load the training data - old buildings"
   ]
  },
  {
   "cell_type": "code",
   "execution_count": 11,
   "metadata": {},
   "outputs": [
    {
     "name": "stdout",
     "output_type": "stream",
     "text": [
      "number of image_files = 250\n",
      "min_size = 400\n"
     ]
    }
   ],
   "source": [
    "# Colab path\n",
    "path = '/content/drive/MyDrive/Capstone'\n",
    "image_path = path + '/images/old_samples'\n",
    "image_path2 = path + \"/images/old_interior/\"\n",
    "\n",
    "# Photos of old or period buildings\n",
    "#image_path = \"../images/old_samples/\"\n",
    "image_files = load_files(image_path)\n",
    "\n",
    "# second batch of old buildings - 150 images of interior\n",
    "#image_path2 = \"../images/old_interior/\"\n",
    "image_files2 = load_files(image_path2)\n",
    "\n",
    "# concatenating 2 lists\n",
    "image_files = image_files + image_files2\n",
    "\n",
    "# set min_size = 400\n",
    "min_size = 400\n",
    "\n",
    "print(f\"number of image_files = {len(image_files)}\")\n",
    "print(f\"min_size = {min_size}\")"
   ]
  },
  {
   "cell_type": "code",
   "execution_count": 12,
   "metadata": {},
   "outputs": [
    {
     "name": "stdout",
     "output_type": "stream",
     "text": [
      "df_file_info =                                         image_link\n",
      "0  ../images/old_samples/photo-14610337-AfvlL7.jpg\n",
      "1  ../images/old_samples/photo-14613473-oJlAGk.jpg\n",
      "2  ../images/old_samples/photo-14613600-uzDqQq.jpg\n",
      "3  ../images/old_samples/photo-14614603-V4bv1O.jpg\n",
      "4  ../images/old_samples/photo-14615502-8O2X6l.jpg\n"
     ]
    }
   ],
   "source": [
    "# record the path of image files\n",
    "df_file_info = pd.DataFrame(image_files)\n",
    "df_file_info.columns = [\"image_link\"]\n",
    "print(f\"df_file_info = {df_file_info.head(5)}\")"
   ]
  },
  {
   "cell_type": "code",
   "execution_count": 13,
   "metadata": {},
   "outputs": [
    {
     "name": "stderr",
     "output_type": "stream",
     "text": [
      "c:\\python37\\lib\\site-packages\\PIL\\TiffImagePlugin.py:788: UserWarning: Corrupt EXIF data.  Expecting to read 4 bytes but only got 2. \n",
      "  warnings.warn(str(msg))\n"
     ]
    },
    {
     "name": "stdout",
     "output_type": "stream",
     "text": [
      "X_old shape = (250, 400, 400, 3)\n",
      "y_old shape = (250, 1)\n"
     ]
    }
   ],
   "source": [
    "X_old = load_array(image_files, min_size)\n",
    "\n",
    "# y value is zero for old buildings\n",
    "y_old = np.zeros((len(image_files),1))\n",
    "\n",
    "print(f\"X_old shape = {X_old.shape}\")\n",
    "print(f\"y_old shape = {y_old.shape}\")"
   ]
  },
  {
   "cell_type": "code",
   "execution_count": 14,
   "metadata": {},
   "outputs": [
    {
     "name": "stdout",
     "output_type": "stream",
     "text": [
      "(250, 2)\n"
     ]
    }
   ],
   "source": [
    "df_y_old = pd.DataFrame(y_old, columns=[\"label\"])\n",
    "df_y_old[\"image_link\"] = df_file_info[\"image_link\"]\n",
    "print(df_y_old.shape)"
   ]
  },
  {
   "cell_type": "code",
   "execution_count": null,
   "metadata": {},
   "outputs": [],
   "source": []
  },
  {
   "cell_type": "markdown",
   "metadata": {},
   "source": [
    "#### Loading training data - modern buildings"
   ]
  },
  {
   "cell_type": "code",
   "execution_count": 15,
   "metadata": {},
   "outputs": [
    {
     "name": "stdout",
     "output_type": "stream",
     "text": [
      "number of image_files = 250\n",
      "min_size = 400\n"
     ]
    }
   ],
   "source": [
    "# Photos of modern buildings\n",
    "\n",
    "image_path = \"../images/modern_samples/\"\n",
    "image_files = load_files(image_path)\n",
    "\n",
    "# second batch of old buildings - 150 images of interior\n",
    "image_path2 = \"../images/modern_exterior/\"\n",
    "image_files2 = load_files(image_path2)\n",
    "\n",
    "# concatenating 2 lists\n",
    "image_files = image_files + image_files2\n",
    "\n",
    "# set min_size = 400\n",
    "min_size = 400\n",
    "\n",
    "print(f\"number of image_files = {len(image_files)}\")\n",
    "print(f\"min_size = {min_size}\")"
   ]
  },
  {
   "cell_type": "code",
   "execution_count": 16,
   "metadata": {},
   "outputs": [
    {
     "name": "stdout",
     "output_type": "stream",
     "text": [
      "df_file_info =                                           image_link\n",
      "0  ../images/modern_samples/photo-14607856-PBTR2E...\n",
      "1  ../images/modern_samples/photo-14607975-aH71tJ...\n",
      "2  ../images/modern_samples/photo-14608672-cQhyQn...\n",
      "3  ../images/modern_samples/photo-14608758-AyTNmO...\n",
      "4  ../images/modern_samples/photo-14608761-kbFlFq...\n"
     ]
    }
   ],
   "source": [
    "# record the path of image files\n",
    "df_file_info = pd.DataFrame(image_files)\n",
    "df_file_info.columns = [\"image_link\"]\n",
    "print(f\"df_file_info = {df_file_info.head(5)}\")"
   ]
  },
  {
   "cell_type": "code",
   "execution_count": 17,
   "metadata": {},
   "outputs": [
    {
     "name": "stdout",
     "output_type": "stream",
     "text": [
      "X_modern shape = (250, 400, 400, 3)\n",
      "y_modern shape = (250, 1)\n"
     ]
    }
   ],
   "source": [
    "X_modern = load_array(image_files, min_size)\n",
    "\n",
    "# y value is one for modern buildings\n",
    "y_modern = np.ones((len(image_files),1))\n",
    "\n",
    "print(f\"X_modern shape = {X_modern.shape}\")\n",
    "print(f\"y_modern shape = {y_modern.shape}\")"
   ]
  },
  {
   "cell_type": "code",
   "execution_count": 18,
   "metadata": {},
   "outputs": [
    {
     "name": "stdout",
     "output_type": "stream",
     "text": [
      "(250, 2)\n"
     ]
    }
   ],
   "source": [
    "df_y_modern = pd.DataFrame(y_modern, columns=[\"label\"])\n",
    "df_y_modern[\"image_link\"] = df_file_info[\"image_link\"]\n",
    "print(df_y_modern.shape)"
   ]
  },
  {
   "cell_type": "code",
   "execution_count": 19,
   "metadata": {},
   "outputs": [
    {
     "data": {
      "text/plain": [
       "(500, 400, 400, 3)"
      ]
     },
     "execution_count": 19,
     "metadata": {},
     "output_type": "execute_result"
    }
   ],
   "source": [
    "X = np.append(X_old, X_modern, axis = 0)\n",
    "X.shape"
   ]
  },
  {
   "cell_type": "code",
   "execution_count": 20,
   "metadata": {},
   "outputs": [
    {
     "data": {
      "text/plain": [
       "0.0"
      ]
     },
     "execution_count": 20,
     "metadata": {},
     "output_type": "execute_result"
    }
   ],
   "source": [
    "np.min(X)"
   ]
  },
  {
   "cell_type": "code",
   "execution_count": 21,
   "metadata": {},
   "outputs": [
    {
     "data": {
      "text/plain": [
       "1.0"
      ]
     },
     "execution_count": 21,
     "metadata": {},
     "output_type": "execute_result"
    }
   ],
   "source": [
    "np.max(X)"
   ]
  },
  {
   "cell_type": "markdown",
   "metadata": {},
   "source": [
    "Note: range of values is 0 to 1; ie min max standard scaling in place"
   ]
  },
  {
   "cell_type": "code",
   "execution_count": 22,
   "metadata": {},
   "outputs": [
    {
     "name": "stdout",
     "output_type": "stream",
     "text": [
      "(500, 3)\n"
     ]
    },
    {
     "data": {
      "text/html": [
       "<div>\n",
       "<style scoped>\n",
       "    .dataframe tbody tr th:only-of-type {\n",
       "        vertical-align: middle;\n",
       "    }\n",
       "\n",
       "    .dataframe tbody tr th {\n",
       "        vertical-align: top;\n",
       "    }\n",
       "\n",
       "    .dataframe thead th {\n",
       "        text-align: right;\n",
       "    }\n",
       "</style>\n",
       "<table border=\"1\" class=\"dataframe\">\n",
       "  <thead>\n",
       "    <tr style=\"text-align: right;\">\n",
       "      <th></th>\n",
       "      <th>label</th>\n",
       "      <th>image_link</th>\n",
       "      <th>id</th>\n",
       "    </tr>\n",
       "  </thead>\n",
       "  <tbody>\n",
       "    <tr>\n",
       "      <th>490</th>\n",
       "      <td>1.0</td>\n",
       "      <td>../images/modern_exterior/photo-14748791-NXoBE...</td>\n",
       "      <td>490</td>\n",
       "    </tr>\n",
       "    <tr>\n",
       "      <th>491</th>\n",
       "      <td>1.0</td>\n",
       "      <td>../images/modern_exterior/photo-14749036-KDpxC...</td>\n",
       "      <td>491</td>\n",
       "    </tr>\n",
       "    <tr>\n",
       "      <th>492</th>\n",
       "      <td>1.0</td>\n",
       "      <td>../images/modern_exterior/photo-14749133-sPopz...</td>\n",
       "      <td>492</td>\n",
       "    </tr>\n",
       "    <tr>\n",
       "      <th>493</th>\n",
       "      <td>1.0</td>\n",
       "      <td>../images/modern_exterior/photo-14749274-JCFg9...</td>\n",
       "      <td>493</td>\n",
       "    </tr>\n",
       "    <tr>\n",
       "      <th>494</th>\n",
       "      <td>1.0</td>\n",
       "      <td>../images/modern_exterior/photo-14749594-D3S3G...</td>\n",
       "      <td>494</td>\n",
       "    </tr>\n",
       "    <tr>\n",
       "      <th>495</th>\n",
       "      <td>1.0</td>\n",
       "      <td>../images/modern_exterior/photo-14749754-aMjBv...</td>\n",
       "      <td>495</td>\n",
       "    </tr>\n",
       "    <tr>\n",
       "      <th>496</th>\n",
       "      <td>1.0</td>\n",
       "      <td>../images/modern_exterior/photo-14749941-ylAYu...</td>\n",
       "      <td>496</td>\n",
       "    </tr>\n",
       "    <tr>\n",
       "      <th>497</th>\n",
       "      <td>1.0</td>\n",
       "      <td>../images/modern_exterior/photo-14750095-gpCbn...</td>\n",
       "      <td>497</td>\n",
       "    </tr>\n",
       "    <tr>\n",
       "      <th>498</th>\n",
       "      <td>1.0</td>\n",
       "      <td>../images/modern_exterior/photo-14750097-vC2kr...</td>\n",
       "      <td>498</td>\n",
       "    </tr>\n",
       "    <tr>\n",
       "      <th>499</th>\n",
       "      <td>1.0</td>\n",
       "      <td>../images/modern_exterior/photo-14750142-ZuvZh...</td>\n",
       "      <td>499</td>\n",
       "    </tr>\n",
       "  </tbody>\n",
       "</table>\n",
       "</div>"
      ],
      "text/plain": [
       "     label                                         image_link   id\n",
       "490    1.0  ../images/modern_exterior/photo-14748791-NXoBE...  490\n",
       "491    1.0  ../images/modern_exterior/photo-14749036-KDpxC...  491\n",
       "492    1.0  ../images/modern_exterior/photo-14749133-sPopz...  492\n",
       "493    1.0  ../images/modern_exterior/photo-14749274-JCFg9...  493\n",
       "494    1.0  ../images/modern_exterior/photo-14749594-D3S3G...  494\n",
       "495    1.0  ../images/modern_exterior/photo-14749754-aMjBv...  495\n",
       "496    1.0  ../images/modern_exterior/photo-14749941-ylAYu...  496\n",
       "497    1.0  ../images/modern_exterior/photo-14750095-gpCbn...  497\n",
       "498    1.0  ../images/modern_exterior/photo-14750097-vC2kr...  498\n",
       "499    1.0  ../images/modern_exterior/photo-14750142-ZuvZh...  499"
      ]
     },
     "execution_count": 22,
     "metadata": {},
     "output_type": "execute_result"
    }
   ],
   "source": [
    "df_y = pd.concat([df_y_old, df_y_modern])\n",
    "df_y.reset_index(drop=True, inplace=True)\n",
    "df_y[\"id\"] = df_y.index\n",
    "print(df_y.shape)\n",
    "df_y.tail(10)"
   ]
  },
  {
   "cell_type": "markdown",
   "metadata": {},
   "source": [
    "#### Train test split"
   ]
  },
  {
   "cell_type": "code",
   "execution_count": 23,
   "metadata": {},
   "outputs": [
    {
     "name": "stdout",
     "output_type": "stream",
     "text": [
      "(375, 3)\n"
     ]
    }
   ],
   "source": [
    "X_train, X_test, y_train, y_test = train_test_split(X, df_y, stratify=df_y[\"label\"])\n",
    "print(y_train.shape)"
   ]
  },
  {
   "cell_type": "code",
   "execution_count": 24,
   "metadata": {},
   "outputs": [
    {
     "data": {
      "text/plain": [
       "1.0    188\n",
       "0.0    187\n",
       "Name: label, dtype: int64"
      ]
     },
     "execution_count": 24,
     "metadata": {},
     "output_type": "execute_result"
    }
   ],
   "source": [
    "# Baseline accuracy - 50%\n",
    "y_train['label'].value_counts()"
   ]
  },
  {
   "cell_type": "code",
   "execution_count": 25,
   "metadata": {},
   "outputs": [
    {
     "data": {
      "text/plain": [
       "(125, 3)"
      ]
     },
     "execution_count": 25,
     "metadata": {},
     "output_type": "execute_result"
    }
   ],
   "source": [
    "y_test.shape"
   ]
  },
  {
   "cell_type": "code",
   "execution_count": 26,
   "metadata": {},
   "outputs": [
    {
     "data": {
      "text/plain": [
       "369    369\n",
       "63      63\n",
       "286    286\n",
       "446    446\n",
       "130    130\n",
       "496    496\n",
       "179    179\n",
       "48      48\n",
       "87      87\n",
       "210    210\n",
       "Name: id, dtype: int64"
      ]
     },
     "execution_count": 26,
     "metadata": {},
     "output_type": "execute_result"
    }
   ],
   "source": [
    "y_test['id'][:10]"
   ]
  },
  {
   "cell_type": "code",
   "execution_count": 27,
   "metadata": {},
   "outputs": [
    {
     "data": {
      "text/plain": [
       "<matplotlib.image.AxesImage at 0x295ab2bff48>"
      ]
     },
     "execution_count": 27,
     "metadata": {},
     "output_type": "execute_result"
    },
    {
     "data": {
      "image/png": "[encoded data removed]",
      "text/plain": [
       "<Figure size 432x288 with 1 Axes>"
      ]
     },
     "metadata": {
      "needs_background": "light"
     },
     "output_type": "display_data"
    }
   ],
   "source": [
    "plt.imshow(X_train[0])"
   ]
  },
  {
   "cell_type": "markdown",
   "metadata": {},
   "source": [
    "#### Standard Scaler (skipped)"
   ]
  },
  {
   "cell_type": "code",
   "execution_count": 28,
   "metadata": {},
   "outputs": [],
   "source": [
    "#X_train_flat = X_train.flatten().reshape(-1,1)\n",
    "#X_train_flat.shape"
   ]
  },
  {
   "cell_type": "code",
   "execution_count": 29,
   "metadata": {},
   "outputs": [],
   "source": [
    "#X_test_flat = X_test.flatten().reshape(-1,1)\n",
    "#X_test_flat.shape"
   ]
  },
  {
   "cell_type": "code",
   "execution_count": 30,
   "metadata": {},
   "outputs": [],
   "source": [
    "#ss = StandardScaler()\n",
    "#X_train_ss = ss.fit_transform(X_train_flat).reshape(X_train.shape)\n",
    "#X_test_ss = ss.transform(X_test_flat).reshape(X_test.shape)\n",
    "\n",
    "X_train_ss = X_train\n",
    "X_test_ss = X_test"
   ]
  },
  {
   "cell_type": "markdown",
   "metadata": {},
   "source": [
    "### Run of model"
   ]
  },
  {
   "cell_type": "code",
   "execution_count": 31,
   "metadata": {},
   "outputs": [],
   "source": [
    "model.compile(loss='binary_crossentropy',\n",
    "                  optimizer='adam',\n",
    "                  metrics=['accuracy'])"
   ]
  },
  {
   "cell_type": "code",
   "execution_count": null,
   "metadata": {},
   "outputs": [
    {
     "name": "stdout",
     "output_type": "stream",
     "text": [
      "Epoch 1/30\n"
     ]
    }
   ],
   "source": [
    "# Fit model on training data\n",
    "history = model.fit(X_train_ss,\n",
    "                        y_train['label'],\n",
    "                        batch_size=32,\n",
    "                        validation_data=(X_test_ss, y_test['label']),\n",
    "                        epochs=30,\n",
    "                        verbose=1)"
   ]
  },
  {
   "cell_type": "code",
   "execution_count": null,
   "metadata": {},
   "outputs": [],
   "source": [
    "train_loss = history.history['loss']\n",
    "test_loss = history.history['val_loss']\n",
    "plt.figure(figsize=(12, 8))\n",
    "plt.plot(train_loss, label='Training loss', color='navy')\n",
    "plt.plot(test_loss, label='Testing loss', color='skyblue')\n",
    "plt.legend();"
   ]
  },
  {
   "cell_type": "markdown",
   "metadata": {},
   "source": [
    "#### List out the images of misclassification - test images"
   ]
  },
  {
   "cell_type": "code",
   "execution_count": null,
   "metadata": {},
   "outputs": [],
   "source": [
    "y_test.head(10)"
   ]
  },
  {
   "cell_type": "code",
   "execution_count": null,
   "metadata": {},
   "outputs": [],
   "source": [
    "y_pred = model.predict(X_test_ss)\n"
   ]
  },
  {
   "cell_type": "code",
   "execution_count": null,
   "metadata": {},
   "outputs": [],
   "source": [
    "y_pred.shape"
   ]
  },
  {
   "cell_type": "code",
   "execution_count": null,
   "metadata": {},
   "outputs": [],
   "source": [
    "y_test['pred'] = y_pred.round()\n",
    "y_test['prob'] = y_pred.round(3)\n",
    "y_test.head(10)"
   ]
  },
  {
   "cell_type": "code",
   "execution_count": null,
   "metadata": {},
   "outputs": [],
   "source": [
    "# count the number of photos misclassified in y_test\n",
    "y_test_misclassified = y_test[[\"image_link\", \"label\", \"pred\", \"prob\"]][y_test[\"label\"] != y_test[\"pred\"]]\n",
    "\n",
    "print(f\"total number in y_test: {y_test.shape[0]}\")\n",
    "print(f\"misclassified in y_test: {y_test_misclassified.shape[0]}\")\n",
    "y_test_misclassified.head()\n",
    "\n"
   ]
  },
  {
   "cell_type": "code",
   "execution_count": null,
   "metadata": {},
   "outputs": [],
   "source": [
    "# show the first 20 photos misclassified in y_test\n",
    "display_no = min(20, y_test_misclassified.shape[0])\n",
    "\n",
    "fig, ax = plt.subplots(ceil(display_no/2), 2, figsize=(8,32))\n",
    "j=0\n",
    "for i in y_test_misclassified.index[:display_no]:\n",
    "    row = j//2\n",
    "    col = j%2\n",
    "    image_link = y_test_misclassified.loc[i, \"image_link\"]\n",
    "    ax[row][col].imshow(io.imread(image_link))\n",
    "    ax[row][col].set_title(\"label:\" + str(y_test_misclassified.loc[i, \"label\"]) + \", pred:\" + str(y_test_misclassified.loc[i, \"pred\"]) + \"prob:\"  + str(y_test_misclassified.loc[i, \"prob\"]))\n",
    "    ax[row][col].axis('off')\n",
    "    j += 1\n",
    "\n",
    "print(j)"
   ]
  },
  {
   "cell_type": "markdown",
   "metadata": {},
   "source": [
    "### Saving the model"
   ]
  },
  {
   "cell_type": "code",
   "execution_count": null,
   "metadata": {},
   "outputs": [],
   "source": [
    "model_tag = \"vgg16\""
   ]
  },
  {
   "cell_type": "code",
   "execution_count": null,
   "metadata": {},
   "outputs": [],
   "source": [
    "# save the scaler\n",
    "#pickle.dump(ss, open('../' + model_tag + '/scaler.pkl', 'wb'))"
   ]
  },
  {
   "cell_type": "code",
   "execution_count": null,
   "metadata": {},
   "outputs": [],
   "source": [
    "# Save the model\n",
    "model = model\n",
    "\n",
    "path = '../models/' + model_tag + '/'\n",
    "model.save(path)\n"
   ]
  },
  {
   "cell_type": "code",
   "execution_count": null,
   "metadata": {},
   "outputs": [],
   "source": []
  },
  {
   "cell_type": "code",
   "execution_count": null,
   "metadata": {},
   "outputs": [],
   "source": []
  },
  {
   "cell_type": "markdown",
   "metadata": {},
   "source": [
    "Results from Google Colab:"
   ]
  },
  {
   "cell_type": "markdown",
   "metadata": {},
   "source": [
    "Epoch 1/30\n",
    "12/12 [==============================] - 800s 68s/step - loss: 3.5856 - accuracy: 0.5684 - val_loss: 1.6331 - val_accuracy: 0.5840\n",
    "Epoch 2/30\n",
    "12/12 [==============================] - 802s 68s/step - loss: 0.5224 - accuracy: 0.8426 - val_loss: 0.8522 - val_accuracy: 0.7680\n",
    "Epoch 3/30\n",
    "12/12 [==============================] - 802s 68s/step - loss: 0.2836 - accuracy: 0.8992 - val_loss: 1.9009 - val_accuracy: 0.7280\n",
    "Epoch 4/30\n",
    "12/12 [==============================] - 794s 68s/step - loss: 0.3163 - accuracy: 0.8711 - val_loss: 1.0434 - val_accuracy: 0.7680\n",
    "Epoch 5/30\n",
    "12/12 [==============================] - 805s 68s/step - loss: 0.0682 - accuracy: 0.9749 - val_loss: 0.9976 - val_accuracy: 0.7840\n",
    "Epoch 6/30\n",
    "12/12 [==============================] - 887s 76s/step - loss: 0.0062 - accuracy: 1.0000 - val_loss: 0.7427 - val_accuracy: 0.8000\n",
    "Epoch 7/30\n",
    "12/12 [==============================] - 828s 71s/step - loss: 0.0055 - accuracy: 1.0000 - val_loss: 0.7028 - val_accuracy: 0.8160\n",
    "Epoch 8/30\n",
    "12/12 [==============================] - 1147s 97s/step - loss: 8.6980e-04 - accuracy: 1.0000 - val_loss: 0.7013 - val_accuracy: 0.8160\n",
    "Epoch 9/30\n",
    "12/12 [==============================] - 936s 79s/step - loss: 9.8996e-04 - accuracy: 1.0000 - val_loss: 0.6918 - val_accuracy: 0.8240\n",
    "Epoch 10/30\n",
    "12/12 [==============================] - 926s 79s/step - loss: 6.0763e-04 - accuracy: 1.0000 - val_loss: 0.6906 - val_accuracy: 0.8240\n",
    "Epoch 11/30\n",
    "12/12 [==============================] - 804s 68s/step - loss: 5.4729e-04 - accuracy: 1.0000 - val_loss: 0.6892 - val_accuracy: 0.8240\n",
    "Epoch 12/30\n",
    "12/12 [==============================] - 779s 66s/step - loss: 3.6887e-04 - accuracy: 1.0000 - val_loss: 0.6893 - val_accuracy: 0.8240\n",
    "Epoch 13/30\n",
    "12/12 [==============================] - 795s 68s/step - loss: 4.3043e-04 - accuracy: 1.0000 - val_loss: 0.6884 - val_accuracy: 0.8240\n",
    "Epoch 14/30\n",
    "12/12 [==============================] - 797s 68s/step - loss: 4.1888e-04 - accuracy: 1.0000 - val_loss: 0.6878 - val_accuracy: 0.8240\n",
    "Epoch 15/30\n",
    "12/12 [==============================] - 789s 67s/step - loss: 3.2022e-04 - accuracy: 1.0000 - val_loss: 0.6871 - val_accuracy: 0.8240\n",
    "Epoch 16/30\n",
    "12/12 [==============================] - 818s 70s/step - loss: 3.0968e-04 - accuracy: 1.0000 - val_loss: 0.6871 - val_accuracy: 0.8240\n",
    "Epoch 17/30\n",
    "12/12 [==============================] - 820s 69s/step - loss: 2.8691e-04 - accuracy: 1.0000 - val_loss: 0.6864 - val_accuracy: 0.8240\n",
    "Epoch 18/30"
   ]
  },
  {
   "cell_type": "code",
   "execution_count": null,
   "metadata": {},
   "outputs": [],
   "source": []
  }
 ],
 "metadata": {
  "kernelspec": {
   "display_name": "Python 3",
   "language": "python",
   "name": "python3"
  },
  "language_info": {
   "codemirror_mode": {
    "name": "ipython",
    "version": 3
   },
   "file_extension": ".py",
   "mimetype": "text/x-python",
   "name": "python",
   "nbconvert_exporter": "python",
   "pygments_lexer": "ipython3",
   "version": "3.7.7"
  }
 },
 "nbformat": 4,
 "nbformat_minor": 2
}
